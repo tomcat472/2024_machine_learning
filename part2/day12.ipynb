{
 "cells": [
  {
   "cell_type": "code",
   "execution_count": 1,
   "id": "715e1350",
   "metadata": {},
   "outputs": [],
   "source": [
    "import numpy as np"
   ]
  },
  {
   "cell_type": "code",
   "execution_count": 2,
   "id": "85a96f2f",
   "metadata": {},
   "outputs": [],
   "source": [
    "a=np.arange(10)"
   ]
  },
  {
   "cell_type": "code",
   "execution_count": 3,
   "id": "ef2c7804",
   "metadata": {},
   "outputs": [
    {
     "data": {
      "text/plain": [
       "array([0, 1, 2, 3, 4, 5, 6, 7, 8, 9])"
      ]
     },
     "execution_count": 3,
     "metadata": {},
     "output_type": "execute_result"
    }
   ],
   "source": [
    "a"
   ]
  },
  {
   "cell_type": "code",
   "execution_count": 4,
   "id": "934eeac3",
   "metadata": {},
   "outputs": [],
   "source": [
    "b=np.random.randint(0,10,(1,10))"
   ]
  },
  {
   "cell_type": "code",
   "execution_count": 5,
   "id": "8b0799c4",
   "metadata": {},
   "outputs": [
    {
     "data": {
      "text/plain": [
       "array([[7, 2, 3, 7, 2, 0, 4, 8, 5, 1]])"
      ]
     },
     "execution_count": 5,
     "metadata": {},
     "output_type": "execute_result"
    }
   ],
   "source": [
    "b"
   ]
  },
  {
   "cell_type": "code",
   "execution_count": 6,
   "id": "80a620a0",
   "metadata": {},
   "outputs": [
    {
     "data": {
      "text/plain": [
       "((10,), (1, 10))"
      ]
     },
     "execution_count": 6,
     "metadata": {},
     "output_type": "execute_result"
    }
   ],
   "source": [
    "a.shape,b.shape"
   ]
  },
  {
   "cell_type": "code",
   "execution_count": 7,
   "id": "289b85d5",
   "metadata": {},
   "outputs": [],
   "source": [
    "c=a[np.newaxis,:]"
   ]
  },
  {
   "cell_type": "code",
   "execution_count": 8,
   "id": "c05019b0",
   "metadata": {},
   "outputs": [
    {
     "data": {
      "text/plain": [
       "array([[0, 1, 2, 3, 4, 5, 6, 7, 8, 9]])"
      ]
     },
     "execution_count": 8,
     "metadata": {},
     "output_type": "execute_result"
    }
   ],
   "source": [
    "c"
   ]
  },
  {
   "cell_type": "code",
   "execution_count": 9,
   "id": "1bd2e4a0",
   "metadata": {},
   "outputs": [
    {
     "data": {
      "text/plain": [
       "array([[0, 1, 2, 3, 4, 5, 6, 7, 8, 9]])"
      ]
     },
     "execution_count": 9,
     "metadata": {},
     "output_type": "execute_result"
    }
   ],
   "source": [
    "a.reshape(1,10)"
   ]
  },
  {
   "cell_type": "code",
   "execution_count": 10,
   "id": "96bd5387",
   "metadata": {},
   "outputs": [
    {
     "data": {
      "text/plain": [
       "(1, 10)"
      ]
     },
     "execution_count": 10,
     "metadata": {},
     "output_type": "execute_result"
    }
   ],
   "source": [
    "c.shape"
   ]
  },
  {
   "cell_type": "code",
   "execution_count": 11,
   "id": "7861fe01",
   "metadata": {},
   "outputs": [
    {
     "name": "stdout",
     "output_type": "stream",
     "text": [
      "[[ 7  3  5 10  6  5 10 15 13 10]]\n"
     ]
    }
   ],
   "source": [
    "d=b+c\n",
    "print(d)"
   ]
  },
  {
   "cell_type": "code",
   "execution_count": 12,
   "id": "f1c413ec",
   "metadata": {},
   "outputs": [
    {
     "data": {
      "text/plain": [
       "(1, 10)"
      ]
     },
     "execution_count": 12,
     "metadata": {},
     "output_type": "execute_result"
    }
   ],
   "source": [
    "d.shape"
   ]
  },
  {
   "cell_type": "code",
   "execution_count": 13,
   "id": "69814012",
   "metadata": {},
   "outputs": [
    {
     "data": {
      "text/plain": [
       "array([[ 7,  4,  7, 13, 10, 10, 16, 22, 21, 19]])"
      ]
     },
     "execution_count": 13,
     "metadata": {},
     "output_type": "execute_result"
    }
   ],
   "source": [
    "e=np.add(d,c)\n",
    "e"
   ]
  },
  {
   "cell_type": "code",
   "execution_count": 14,
   "id": "ce23026a",
   "metadata": {},
   "outputs": [
    {
     "data": {
      "text/plain": [
       "129"
      ]
     },
     "execution_count": 14,
     "metadata": {},
     "output_type": "execute_result"
    }
   ],
   "source": [
    "np.sum(e)"
   ]
  },
  {
   "cell_type": "code",
   "execution_count": 15,
   "id": "1c40e73b",
   "metadata": {},
   "outputs": [
    {
     "data": {
      "text/plain": [
       "129"
      ]
     },
     "execution_count": 15,
     "metadata": {},
     "output_type": "execute_result"
    }
   ],
   "source": [
    "e.sum()"
   ]
  },
  {
   "cell_type": "code",
   "execution_count": 16,
   "id": "ae02343d",
   "metadata": {},
   "outputs": [
    {
     "data": {
      "text/plain": [
       "array([[[[ 0,  1],\n",
       "         [ 2,  3]],\n",
       "\n",
       "        [[ 4,  5],\n",
       "         [ 6,  7]],\n",
       "\n",
       "        [[ 8,  9],\n",
       "         [10, 11]],\n",
       "\n",
       "        [[12, 13],\n",
       "         [14, 15]],\n",
       "\n",
       "        [[16, 17],\n",
       "         [18, 19]]],\n",
       "\n",
       "\n",
       "       [[[20, 21],\n",
       "         [22, 23]],\n",
       "\n",
       "        [[24, 25],\n",
       "         [26, 27]],\n",
       "\n",
       "        [[28, 29],\n",
       "         [30, 31]],\n",
       "\n",
       "        [[32, 33],\n",
       "         [34, 35]],\n",
       "\n",
       "        [[36, 37],\n",
       "         [38, 39]]],\n",
       "\n",
       "\n",
       "       [[[40, 41],\n",
       "         [42, 43]],\n",
       "\n",
       "        [[44, 45],\n",
       "         [46, 47]],\n",
       "\n",
       "        [[48, 49],\n",
       "         [50, 51]],\n",
       "\n",
       "        [[52, 53],\n",
       "         [54, 55]],\n",
       "\n",
       "        [[56, 57],\n",
       "         [58, 59]]],\n",
       "\n",
       "\n",
       "       [[[60, 61],\n",
       "         [62, 63]],\n",
       "\n",
       "        [[64, 65],\n",
       "         [66, 67]],\n",
       "\n",
       "        [[68, 69],\n",
       "         [70, 71]],\n",
       "\n",
       "        [[72, 73],\n",
       "         [74, 75]],\n",
       "\n",
       "        [[76, 77],\n",
       "         [78, 79]]],\n",
       "\n",
       "\n",
       "       [[[80, 81],\n",
       "         [82, 83]],\n",
       "\n",
       "        [[84, 85],\n",
       "         [86, 87]],\n",
       "\n",
       "        [[88, 89],\n",
       "         [90, 91]],\n",
       "\n",
       "        [[92, 93],\n",
       "         [94, 95]],\n",
       "\n",
       "        [[96, 97],\n",
       "         [98, 99]]]])"
      ]
     },
     "execution_count": 16,
     "metadata": {},
     "output_type": "execute_result"
    }
   ],
   "source": [
    "z=np.arange(100).reshape(5,5,2,2)\n",
    "z"
   ]
  },
  {
   "cell_type": "code",
   "execution_count": 17,
   "id": "7ce94041",
   "metadata": {},
   "outputs": [
    {
     "data": {
      "text/plain": [
       "array([[[200, 205],\n",
       "        [210, 215]],\n",
       "\n",
       "       [[220, 225],\n",
       "        [230, 235]],\n",
       "\n",
       "       [[240, 245],\n",
       "        [250, 255]],\n",
       "\n",
       "       [[260, 265],\n",
       "        [270, 275]],\n",
       "\n",
       "       [[280, 285],\n",
       "        [290, 295]]])"
      ]
     },
     "execution_count": 17,
     "metadata": {},
     "output_type": "execute_result"
    }
   ],
   "source": [
    "z.sum(axis=0)"
   ]
  },
  {
   "cell_type": "code",
   "execution_count": 18,
   "id": "3d52958d",
   "metadata": {},
   "outputs": [
    {
     "data": {
      "text/plain": [
       "array([[[ 40,  45],\n",
       "        [ 50,  55]],\n",
       "\n",
       "       [[140, 145],\n",
       "        [150, 155]],\n",
       "\n",
       "       [[240, 245],\n",
       "        [250, 255]],\n",
       "\n",
       "       [[340, 345],\n",
       "        [350, 355]],\n",
       "\n",
       "       [[440, 445],\n",
       "        [450, 455]]])"
      ]
     },
     "execution_count": 18,
     "metadata": {},
     "output_type": "execute_result"
    }
   ],
   "source": [
    "z.sum(axis=1)"
   ]
  },
  {
   "cell_type": "code",
   "execution_count": 19,
   "id": "7ee882ad",
   "metadata": {},
   "outputs": [
    {
     "data": {
      "text/plain": [
       "array([[ 0,  1,  2,  3],\n",
       "       [ 4,  5,  6,  7],\n",
       "       [ 8,  9, 10, 11],\n",
       "       [12, 13, 14, 15]])"
      ]
     },
     "execution_count": 19,
     "metadata": {},
     "output_type": "execute_result"
    }
   ],
   "source": [
    "x=np.arange(16).reshape(4,4)\n",
    "x"
   ]
  },
  {
   "cell_type": "code",
   "execution_count": 20,
   "id": "690977b9",
   "metadata": {},
   "outputs": [
    {
     "data": {
      "text/plain": [
       "array([24, 28, 32, 36])"
      ]
     },
     "execution_count": 20,
     "metadata": {},
     "output_type": "execute_result"
    }
   ],
   "source": [
    "x.sum(axis=0)"
   ]
  },
  {
   "cell_type": "code",
   "execution_count": 21,
   "id": "ae6c2ddf",
   "metadata": {},
   "outputs": [
    {
     "data": {
      "text/plain": [
       "array([ 6, 22, 38, 54])"
      ]
     },
     "execution_count": 21,
     "metadata": {},
     "output_type": "execute_result"
    }
   ],
   "source": [
    "x.sum(axis=1)"
   ]
  },
  {
   "cell_type": "code",
   "execution_count": 22,
   "id": "8d419887",
   "metadata": {},
   "outputs": [
    {
     "data": {
      "text/plain": [
       "array([[[0, 1],\n",
       "        [2, 3]],\n",
       "\n",
       "       [[4, 5],\n",
       "        [6, 7]]])"
      ]
     },
     "execution_count": 22,
     "metadata": {},
     "output_type": "execute_result"
    }
   ],
   "source": [
    "i=np.arange(8).reshape(2,2,2)\n",
    "i"
   ]
  },
  {
   "cell_type": "code",
   "execution_count": 23,
   "id": "af5690fa",
   "metadata": {},
   "outputs": [
    {
     "data": {
      "text/plain": [
       "array([[ 4,  6],\n",
       "       [ 8, 10]])"
      ]
     },
     "execution_count": 23,
     "metadata": {},
     "output_type": "execute_result"
    }
   ],
   "source": [
    "np.sum(i,axis=0)"
   ]
  },
  {
   "cell_type": "code",
   "execution_count": 24,
   "id": "56980f0a",
   "metadata": {},
   "outputs": [
    {
     "data": {
      "text/plain": [
       "array([[ 2,  4],\n",
       "       [10, 12]])"
      ]
     },
     "execution_count": 24,
     "metadata": {},
     "output_type": "execute_result"
    }
   ],
   "source": [
    "np.sum(i,axis=1)"
   ]
  },
  {
   "cell_type": "code",
   "execution_count": 25,
   "id": "4d79d5da",
   "metadata": {},
   "outputs": [
    {
     "data": {
      "text/plain": [
       "array([[ 1,  5],\n",
       "       [ 9, 13]])"
      ]
     },
     "execution_count": 25,
     "metadata": {},
     "output_type": "execute_result"
    }
   ],
   "source": [
    "np.sum(i,axis=2)"
   ]
  },
  {
   "cell_type": "code",
   "execution_count": 26,
   "id": "9d581379",
   "metadata": {},
   "outputs": [
    {
     "name": "stdout",
     "output_type": "stream",
     "text": [
      "2.48 ms ± 190 µs per loop (mean ± std. dev. of 7 runs, 100 loops each)\n",
      "2.44 ms ± 160 µs per loop (mean ± std. dev. of 7 runs, 100 loops each)\n"
     ]
    }
   ],
   "source": [
    "n=1000000\n",
    "A=np.random.rand(n)\n",
    "B=np.random.rand(n)\n",
    "%timeit A+B\n",
    "%timeit np.add(A,B)"
   ]
  },
  {
   "cell_type": "code",
   "execution_count": 27,
   "id": "9efa8d53",
   "metadata": {},
   "outputs": [
    {
     "data": {
      "text/plain": [
       "array([ 0.02464703,  0.24245249, -0.40521074,  0.04850393, -0.08738839,\n",
       "       -0.63210651,  0.09139446, -0.23840307, -0.26426653, -0.11768935])"
      ]
     },
     "execution_count": 27,
     "metadata": {},
     "output_type": "execute_result"
    }
   ],
   "source": [
    "a=np.random.rand(10)\n",
    "b=np.random.rand(10)\n",
    "c=np.subtract(a,b)\n",
    "c"
   ]
  },
  {
   "cell_type": "code",
   "execution_count": 28,
   "id": "2c05e51e",
   "metadata": {},
   "outputs": [
    {
     "data": {
      "text/plain": [
       "array([ 0.02464703,  0.24245249, -0.40521074,  0.04850393, -0.08738839,\n",
       "       -0.63210651,  0.09139446, -0.23840307, -0.26426653, -0.11768935])"
      ]
     },
     "execution_count": 28,
     "metadata": {},
     "output_type": "execute_result"
    }
   ],
   "source": [
    "d=a-b\n",
    "d"
   ]
  },
  {
   "cell_type": "code",
   "execution_count": 29,
   "id": "0f5c2bd6",
   "metadata": {},
   "outputs": [
    {
     "name": "stdout",
     "output_type": "stream",
     "text": [
      "[0.10780195 0.16408662 0.01215142 0.07958699 0.83149919 0.31949996\n",
      " 0.67749992 0.00705821 0.09804966 0.05425081] [0.10780195 0.16408662 0.01215142 0.07958699 0.83149919 0.31949996\n",
      " 0.67749992 0.00705821 0.09804966 0.05425081]\n"
     ]
    }
   ],
   "source": [
    "m1=np.multiply(a,b)\n",
    "m2=a*b\n",
    "print(m1,m2)"
   ]
  },
  {
   "cell_type": "code",
   "execution_count": 30,
   "id": "5cb90681",
   "metadata": {},
   "outputs": [
    {
     "name": "stdout",
     "output_type": "stream",
     "text": [
      "[0.71152925 0.83227961 0.21258519 0.73683108 0.87452065 0.34512287\n",
      " 0.89728803 0.38253824 0.47628052 0.60015927] [0.71152925 0.83227961 0.21258519 0.73683108 0.87452065 0.34512287\n",
      " 0.89728803 0.38253824 0.47628052 0.60015927]\n"
     ]
    }
   ],
   "source": [
    "p1=np.power(a,b)\n",
    "p2=a**b\n",
    "print(p1,p2)"
   ]
  },
  {
   "cell_type": "code",
   "execution_count": 31,
   "id": "3f1d56fa",
   "metadata": {},
   "outputs": [
    {
     "data": {
      "text/plain": [
       "array([3, 1, 3, 2, 3, 1, 1, 1, 2, 6])"
      ]
     },
     "execution_count": 31,
     "metadata": {},
     "output_type": "execute_result"
    }
   ],
   "source": [
    "h=np.random.randint(1,10,10)\n",
    "j=np.random.randint(1,10,10)\n",
    "h%j"
   ]
  },
  {
   "cell_type": "code",
   "execution_count": 32,
   "id": "7816c165",
   "metadata": {},
   "outputs": [
    {
     "data": {
      "text/plain": [
       "array([3, 1, 3, 2, 3, 1, 1, 1, 2, 6])"
      ]
     },
     "execution_count": 32,
     "metadata": {},
     "output_type": "execute_result"
    }
   ],
   "source": [
    "np.mod(h,j)"
   ]
  },
  {
   "cell_type": "code",
   "execution_count": 33,
   "id": "5af9e059",
   "metadata": {},
   "outputs": [
    {
     "data": {
      "text/plain": [
       "49.5"
      ]
     },
     "execution_count": 33,
     "metadata": {},
     "output_type": "execute_result"
    }
   ],
   "source": [
    "a=np.arange(100).reshape(5,20)\n",
    "a.mean()"
   ]
  },
  {
   "cell_type": "code",
   "execution_count": 34,
   "id": "3c670126",
   "metadata": {},
   "outputs": [
    {
     "data": {
      "text/plain": [
       "(array([40., 41., 42., 43., 44., 45., 46., 47., 48., 49., 50., 51., 52.,\n",
       "        53., 54., 55., 56., 57., 58., 59.]),\n",
       " array([ 9.5, 29.5, 49.5, 69.5, 89.5]))"
      ]
     },
     "execution_count": 34,
     "metadata": {},
     "output_type": "execute_result"
    }
   ],
   "source": [
    "a.mean(axis=0),a.mean(axis=1)"
   ]
  },
  {
   "cell_type": "code",
   "execution_count": 35,
   "id": "d6974cee",
   "metadata": {},
   "outputs": [
    {
     "data": {
      "text/plain": [
       "array([0.5943712 , 0.40471346, 0.67043994, 0.16051796, 0.00580891])"
      ]
     },
     "execution_count": 35,
     "metadata": {},
     "output_type": "execute_result"
    }
   ],
   "source": [
    "x=np.random.rand(5)\n",
    "np.sin(x)"
   ]
  },
  {
   "cell_type": "code",
   "execution_count": 36,
   "id": "d99b7df0",
   "metadata": {},
   "outputs": [
    {
     "data": {
      "text/plain": [
       "(array([0.80419082, 0.91444355, 0.7419638 , 0.98703292, 0.99998313]),\n",
       " array([0.68993043, 0.42977411, 0.82537409, 0.16192203, 0.00580897]))"
      ]
     },
     "execution_count": 36,
     "metadata": {},
     "output_type": "execute_result"
    }
   ],
   "source": [
    "np.cos(x),np.arcsin(x)"
   ]
  },
  {
   "cell_type": "code",
   "execution_count": 37,
   "id": "c776549a",
   "metadata": {},
   "outputs": [
    {
     "data": {
      "text/plain": [
       "array([False, False,  True,  True, False])"
      ]
     },
     "execution_count": 37,
     "metadata": {},
     "output_type": "execute_result"
    }
   ],
   "source": [
    "n=np.random.rand(5)\n",
    "m=np.random.rand(5)\n",
    "r=np.greater(n,m)\n",
    "r"
   ]
  },
  {
   "cell_type": "code",
   "execution_count": 38,
   "id": "50f60812",
   "metadata": {},
   "outputs": [
    {
     "data": {
      "text/plain": [
       "array([False, False,  True,  True, False])"
      ]
     },
     "execution_count": 38,
     "metadata": {},
     "output_type": "execute_result"
    }
   ],
   "source": [
    "r1=n>m\n",
    "r1"
   ]
  },
  {
   "cell_type": "code",
   "execution_count": 39,
   "id": "a9d2243f",
   "metadata": {},
   "outputs": [
    {
     "data": {
      "text/plain": [
       "array([False, False,  True,  True,  True,  True, False, False, False,\n",
       "        True])"
      ]
     },
     "execution_count": 39,
     "metadata": {},
     "output_type": "execute_result"
    }
   ],
   "source": [
    "u=np.random.rand(10)\n",
    "r1=u<0.5\n",
    "r2=~r1\n",
    "r2"
   ]
  },
  {
   "cell_type": "code",
   "execution_count": 40,
   "id": "cb56afa9",
   "metadata": {},
   "outputs": [
    {
     "data": {
      "text/plain": [
       "array([False, False,  True,  True,  True,  True, False, False, False,\n",
       "        True])"
      ]
     },
     "execution_count": 40,
     "metadata": {},
     "output_type": "execute_result"
    }
   ],
   "source": [
    "np.logical_not(r1)"
   ]
  },
  {
   "cell_type": "code",
   "execution_count": 41,
   "id": "9cb460e3",
   "metadata": {},
   "outputs": [
    {
     "data": {
      "text/plain": [
       "array([False,  True, False,  True, False, False, False, False, False,\n",
       "       False,  True, False,  True, False, False,  True, False, False,\n",
       "       False,  True])"
      ]
     },
     "execution_count": 41,
     "metadata": {},
     "output_type": "execute_result"
    }
   ],
   "source": [
    "x=np.random.rand(20)\n",
    "idx=(x>0.3) & (x<0.7)\n",
    "idx"
   ]
  },
  {
   "cell_type": "code",
   "execution_count": 42,
   "id": "c4a356a2",
   "metadata": {},
   "outputs": [
    {
     "data": {
      "text/plain": [
       "array([0.6794653 , 0.70302513, 0.27878087,        nan, 0.4496068 ])"
      ]
     },
     "execution_count": 42,
     "metadata": {},
     "output_type": "execute_result"
    }
   ],
   "source": [
    "a=np.random.rand(5)\n",
    "a[3]=np.nan\n",
    "a"
   ]
  },
  {
   "cell_type": "code",
   "execution_count": 43,
   "id": "abc3639d",
   "metadata": {},
   "outputs": [
    {
     "data": {
      "text/plain": [
       "nan"
      ]
     },
     "execution_count": 43,
     "metadata": {},
     "output_type": "execute_result"
    }
   ],
   "source": [
    "a.sum()"
   ]
  },
  {
   "cell_type": "code",
   "execution_count": 44,
   "id": "15fa5160",
   "metadata": {},
   "outputs": [
    {
     "data": {
      "text/plain": [
       "2.110878109120824"
      ]
     },
     "execution_count": 44,
     "metadata": {},
     "output_type": "execute_result"
    }
   ],
   "source": [
    "np.nansum(a)"
   ]
  },
  {
   "cell_type": "code",
   "execution_count": 45,
   "id": "eb526777",
   "metadata": {},
   "outputs": [
    {
     "data": {
      "text/plain": [
       "array([False, False, False,  True, False])"
      ]
     },
     "execution_count": 45,
     "metadata": {},
     "output_type": "execute_result"
    }
   ],
   "source": [
    "np.isnan(a)"
   ]
  },
  {
   "cell_type": "code",
   "execution_count": 46,
   "id": "2d6d1aa6",
   "metadata": {},
   "outputs": [
    {
     "data": {
      "text/plain": [
       "array([5.43894133, 9.08797085, 4.45756141, 6.43009067, 1.13498453])"
      ]
     },
     "execution_count": 46,
     "metadata": {},
     "output_type": "execute_result"
    }
   ],
   "source": [
    "b=10*np.random.rand(5)\n",
    "b"
   ]
  },
  {
   "cell_type": "code",
   "execution_count": 47,
   "id": "247dddb0",
   "metadata": {},
   "outputs": [
    {
     "data": {
      "text/plain": [
       "array([5., 9., 4., 6., 1.])"
      ]
     },
     "execution_count": 47,
     "metadata": {},
     "output_type": "execute_result"
    }
   ],
   "source": [
    "np.floor(b)"
   ]
  },
  {
   "cell_type": "code",
   "execution_count": 48,
   "id": "ea22d35f",
   "metadata": {},
   "outputs": [
    {
     "data": {
      "text/plain": [
       "array([ 6., 10.,  5.,  7.,  2.])"
      ]
     },
     "execution_count": 48,
     "metadata": {},
     "output_type": "execute_result"
    }
   ],
   "source": [
    "np.ceil(b)"
   ]
  }
 ],
 "metadata": {
  "kernelspec": {
   "display_name": "Python 3 (ipykernel)",
   "language": "python",
   "name": "python3"
  },
  "language_info": {
   "codemirror_mode": {
    "name": "ipython",
    "version": 3
   },
   "file_extension": ".py",
   "mimetype": "text/x-python",
   "name": "python",
   "nbconvert_exporter": "python",
   "pygments_lexer": "ipython3",
   "version": "3.11.4"
  }
 },
 "nbformat": 4,
 "nbformat_minor": 5
}
