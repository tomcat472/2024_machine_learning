{
 "cells": [
  {
   "cell_type": "code",
   "execution_count": 1,
   "id": "134bfc9d",
   "metadata": {},
   "outputs": [],
   "source": [
    "def sample():\n",
    "    print('Hi')\n",
    "    print('Hello')"
   ]
  },
  {
   "cell_type": "code",
   "execution_count": 2,
   "id": "901a19e9",
   "metadata": {},
   "outputs": [
    {
     "name": "stdout",
     "output_type": "stream",
     "text": [
      "Hi\n",
      "Hello\n"
     ]
    }
   ],
   "source": [
    "sample()"
   ]
  },
  {
   "cell_type": "code",
   "execution_count": 3,
   "id": "c4d5b358",
   "metadata": {},
   "outputs": [],
   "source": [
    "# docstring\n",
    "def another():\n",
    "    \"\"\"Hello I am docstring\"\"\"\n",
    "    print('Are you happy?')"
   ]
  },
  {
   "cell_type": "code",
   "execution_count": 4,
   "id": "fcb26477",
   "metadata": {},
   "outputs": [
    {
     "name": "stdout",
     "output_type": "stream",
     "text": [
      "Are you happy?\n"
     ]
    }
   ],
   "source": [
    "another()"
   ]
  },
  {
   "cell_type": "code",
   "execution_count": 5,
   "id": "25d1def5",
   "metadata": {},
   "outputs": [
    {
     "name": "stdout",
     "output_type": "stream",
     "text": [
      "Help on function another in module __main__:\n",
      "\n",
      "another()\n",
      "    Hello I am docstring\n",
      "\n"
     ]
    }
   ],
   "source": [
    "help(another)"
   ]
  },
  {
   "cell_type": "code",
   "execution_count": 6,
   "id": "77c26ce7",
   "metadata": {},
   "outputs": [],
   "source": [
    "another?"
   ]
  },
  {
   "cell_type": "code",
   "execution_count": 7,
   "id": "e06817ed",
   "metadata": {},
   "outputs": [],
   "source": [
    "def other(msg):\n",
    "    \"\"\"What am I doing right now?\"\"\"\n",
    "    if isinstance(msg,str):\n",
    "        print(msg)\n",
    "    else:\n",
    "        print('your input argument is not a string')\n",
    "        print('this is what you have supplied',type(msg))"
   ]
  },
  {
   "cell_type": "code",
   "execution_count": 8,
   "id": "accf245f",
   "metadata": {},
   "outputs": [
    {
     "name": "stdout",
     "output_type": "stream",
     "text": [
      "your input argument is not a string\n",
      "this is what you have supplied <class 'int'>\n"
     ]
    }
   ],
   "source": [
    "other(2)"
   ]
  },
  {
   "cell_type": "code",
   "execution_count": 9,
   "id": "b39280f9",
   "metadata": {},
   "outputs": [
    {
     "name": "stdout",
     "output_type": "stream",
     "text": [
      "hello\n"
     ]
    }
   ],
   "source": [
    "other('hello')"
   ]
  },
  {
   "cell_type": "code",
   "execution_count": 10,
   "id": "59ebf4b7",
   "metadata": {},
   "outputs": [],
   "source": [
    "def cal(a,b):\n",
    "    print(a+b)"
   ]
  },
  {
   "cell_type": "code",
   "execution_count": 11,
   "id": "8915b29d",
   "metadata": {},
   "outputs": [
    {
     "name": "stdout",
     "output_type": "stream",
     "text": [
      "6\n"
     ]
    }
   ],
   "source": [
    "cal(3,3)"
   ]
  },
  {
   "cell_type": "code",
   "execution_count": 12,
   "id": "3fb7b2e1",
   "metadata": {},
   "outputs": [],
   "source": [
    "def checkArgs(a,b,c):\n",
    "    if isinstance(a,(int,float)) and isinstance(b,(int,float)) and isinstance(c,(int,float)):\n",
    "        print((a+b-2)**2)\n",
    "    else:\n",
    "        print('Error: the input arguments are not of the expected types.')"
   ]
  },
  {
   "cell_type": "code",
   "execution_count": 13,
   "id": "138f2d17",
   "metadata": {},
   "outputs": [
    {
     "name": "stdout",
     "output_type": "stream",
     "text": [
      "9\n"
     ]
    }
   ],
   "source": [
    "checkArgs(2,3,2)\n",
    "# if you supply 2 paras, you will get an error"
   ]
  },
  {
   "cell_type": "code",
   "execution_count": 14,
   "id": "f71799d9",
   "metadata": {},
   "outputs": [
    {
     "name": "stdout",
     "output_type": "stream",
     "text": [
      "Error: the input arguments are not of the expected types.\n"
     ]
    }
   ],
   "source": [
    "checkArgs(23,3,'a')"
   ]
  }
 ],
 "metadata": {
  "kernelspec": {
   "display_name": "Python 3 (ipykernel)",
   "language": "python",
   "name": "python3"
  },
  "language_info": {
   "codemirror_mode": {
    "name": "ipython",
    "version": 3
   },
   "file_extension": ".py",
   "mimetype": "text/x-python",
   "name": "python",
   "nbconvert_exporter": "python",
   "pygments_lexer": "ipython3",
   "version": "3.11.4"
  }
 },
 "nbformat": 4,
 "nbformat_minor": 5
}
