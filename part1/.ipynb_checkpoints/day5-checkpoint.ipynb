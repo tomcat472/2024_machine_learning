{
 "cells": [
  {
   "cell_type": "code",
   "execution_count": 1,
   "id": "d9c927c2",
   "metadata": {},
   "outputs": [],
   "source": [
    "def f(c1,c2,c3):\n",
    "    print(c1,c2,c3)"
   ]
  },
  {
   "cell_type": "code",
   "execution_count": 2,
   "id": "54000b32",
   "metadata": {},
   "outputs": [
    {
     "name": "stdout",
     "output_type": "stream",
     "text": [
      "apple 2 43\n"
     ]
    }
   ],
   "source": [
    "f('apple',2,43)"
   ]
  },
  {
   "cell_type": "code",
   "execution_count": 3,
   "id": "a45cbdeb",
   "metadata": {},
   "outputs": [],
   "source": [
    "def F(a,b,c):\n",
    "    print('a is : ',a)\n",
    "    print('b is : ',b)\n",
    "    print('c is : ',c)"
   ]
  },
  {
   "cell_type": "code",
   "execution_count": 4,
   "id": "dbd51264",
   "metadata": {},
   "outputs": [
    {
     "name": "stdout",
     "output_type": "stream",
     "text": [
      "a is :  1\n",
      "b is :  2\n",
      "c is :  3\n"
     ]
    }
   ],
   "source": [
    "F(1,2,3)"
   ]
  },
  {
   "cell_type": "code",
   "execution_count": 5,
   "id": "1190b268",
   "metadata": {},
   "outputs": [
    {
     "name": "stdout",
     "output_type": "stream",
     "text": [
      "a is :  21\n",
      "b is :  23\n",
      "c is :  2\n"
     ]
    }
   ],
   "source": [
    "F(a=21,b=23,c=2)"
   ]
  },
  {
   "cell_type": "code",
   "execution_count": 6,
   "id": "c511693d",
   "metadata": {},
   "outputs": [
    {
     "name": "stdout",
     "output_type": "stream",
     "text": [
      "a is :  32\n",
      "b is :  0\n",
      "c is :  32\n"
     ]
    }
   ],
   "source": [
    "F(c=32,a=32,b=0)"
   ]
  },
  {
   "cell_type": "code",
   "execution_count": 7,
   "id": "587901af",
   "metadata": {},
   "outputs": [],
   "source": [
    "def add(x,y):\n",
    "    return x+y"
   ]
  },
  {
   "cell_type": "code",
   "execution_count": 8,
   "id": "980b4cfb",
   "metadata": {},
   "outputs": [
    {
     "data": {
      "text/plain": [
       "46"
      ]
     },
     "execution_count": 8,
     "metadata": {},
     "output_type": "execute_result"
    }
   ],
   "source": [
    "add(23,23)"
   ]
  },
  {
   "cell_type": "code",
   "execution_count": 9,
   "id": "485aed53",
   "metadata": {},
   "outputs": [],
   "source": [
    "def add(*args):\n",
    "    sum=0\n",
    "    for i in range(len(args)):\n",
    "        sum+=args[i]\n",
    "    return sum"
   ]
  },
  {
   "cell_type": "code",
   "execution_count": 10,
   "id": "555c2ff0",
   "metadata": {},
   "outputs": [
    {
     "data": {
      "text/plain": [
       "235260"
      ]
     },
     "execution_count": 10,
     "metadata": {},
     "output_type": "execute_result"
    }
   ],
   "source": [
    "add(234,234,234234,324,234)"
   ]
  },
  {
   "cell_type": "code",
   "execution_count": 11,
   "id": "9289b664",
   "metadata": {},
   "outputs": [],
   "source": [
    "def hello(name='tom'):\n",
    "    return f'Hello {name.title()}'"
   ]
  },
  {
   "cell_type": "code",
   "execution_count": 12,
   "id": "5009771d",
   "metadata": {},
   "outputs": [
    {
     "data": {
      "text/plain": [
       "'Hello Tom'"
      ]
     },
     "execution_count": 12,
     "metadata": {},
     "output_type": "execute_result"
    }
   ],
   "source": [
    "hello()"
   ]
  },
  {
   "cell_type": "code",
   "execution_count": 13,
   "id": "27e1f9c5",
   "metadata": {},
   "outputs": [
    {
     "data": {
      "text/plain": [
       "'Hello Jack'"
      ]
     },
     "execution_count": 13,
     "metadata": {},
     "output_type": "execute_result"
    }
   ],
   "source": [
    "hello('jack')"
   ]
  },
  {
   "cell_type": "code",
   "execution_count": 14,
   "id": "ca861069",
   "metadata": {},
   "outputs": [],
   "source": [
    "# from cal import cal,sub"
   ]
  },
  {
   "cell_type": "code",
   "execution_count": 15,
   "id": "8c8f117b",
   "metadata": {},
   "outputs": [],
   "source": [
    "import sys\n",
    "sys.path.append('C:/Users/Admin/Desktop/data_analysis_2024/part1')"
   ]
  },
  {
   "cell_type": "code",
   "execution_count": 16,
   "id": "cad4a313",
   "metadata": {},
   "outputs": [],
   "source": [
    "from cal import sub,cal"
   ]
  },
  {
   "cell_type": "code",
   "execution_count": 17,
   "id": "37dea1cd",
   "metadata": {},
   "outputs": [
    {
     "data": {
      "text/plain": [
       "0"
      ]
     },
     "execution_count": 17,
     "metadata": {},
     "output_type": "execute_result"
    }
   ],
   "source": [
    "sub(23,23)"
   ]
  },
  {
   "cell_type": "code",
   "execution_count": 18,
   "id": "cc7c81f2",
   "metadata": {},
   "outputs": [
    {
     "data": {
      "text/plain": [
       "46"
      ]
     },
     "execution_count": 18,
     "metadata": {},
     "output_type": "execute_result"
    }
   ],
   "source": [
    "cal(23,23)"
   ]
  }
 ],
 "metadata": {
  "kernelspec": {
   "display_name": "Python 3 (ipykernel)",
   "language": "python",
   "name": "python3"
  },
  "language_info": {
   "codemirror_mode": {
    "name": "ipython",
    "version": 3
   },
   "file_extension": ".py",
   "mimetype": "text/x-python",
   "name": "python",
   "nbconvert_exporter": "python",
   "pygments_lexer": "ipython3",
   "version": "3.11.4"
  }
 },
 "nbformat": 4,
 "nbformat_minor": 5
}
