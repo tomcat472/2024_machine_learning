{
 "cells": [
  {
   "cell_type": "code",
   "execution_count": 2,
   "id": "901c81e1",
   "metadata": {},
   "outputs": [
    {
     "name": "stdout",
     "output_type": "stream",
     "text": [
      "max iteration: 4\n",
      "1\n",
      "2\n",
      "3\n",
      "done\n"
     ]
    }
   ],
   "source": [
    "n=int(input('max iteration: '))\n",
    "i=1\n",
    "while i<n:\n",
    "    print(i)\n",
    "    i+=1\n",
    "print('done')"
   ]
  },
  {
   "cell_type": "code",
   "execution_count": 3,
   "id": "ae0d6276",
   "metadata": {},
   "outputs": [
    {
     "name": "stdout",
     "output_type": "stream",
     "text": [
      "max iteration: 4\n",
      "1\n",
      "This is iteration number:  1\n",
      "4\n",
      "This is iteration number:  2\n",
      "9\n",
      "This is iteration number:  3\n",
      "loop\n"
     ]
    }
   ],
   "source": [
    "n=int(input('max iteration: '))\n",
    "i=1\n",
    "while i<n:\n",
    "    print(i**2)\n",
    "    print('This is iteration number: ',i)\n",
    "    i+=1\n",
    "print('loop done')"
   ]
  },
  {
   "cell_type": "code",
   "execution_count": 5,
   "id": "8292b2fe",
   "metadata": {},
   "outputs": [
    {
     "name": "stdout",
     "output_type": "stream",
     "text": [
      "inside if\n",
      "inside if\n",
      "inside if\n",
      "inside if\n",
      "inside if\n",
      "inside if\n",
      "inside if\n",
      "inside if\n",
      "something\n",
      "something more\n",
      "done\n"
     ]
    }
   ],
   "source": [
    "i=1\n",
    "while True:\n",
    "    if i%9 !=0:\n",
    "        print('inside if')\n",
    "        i+=1\n",
    "        continue\n",
    "    print('something')\n",
    "    print('something more')\n",
    "    break\n",
    "print('done')"
   ]
  },
  {
   "cell_type": "code",
   "execution_count": 10,
   "id": "95076675",
   "metadata": {},
   "outputs": [
    {
     "name": "stdout",
     "output_type": "stream",
     "text": [
      "1\n",
      "3\n",
      "5\n",
      "7\n",
      "9\n",
      "[0, 4, 16, 36, 64]\n"
     ]
    }
   ],
   "source": [
    "A=[]\n",
    "for a in range(0,10,2):\n",
    "    print(a+1)\n",
    "    A.append(a**2)\n",
    "print(A)"
   ]
  },
  {
   "cell_type": "code",
   "execution_count": 11,
   "id": "8191d764",
   "metadata": {},
   "outputs": [
    {
     "name": "stdout",
     "output_type": "stream",
     "text": [
      "cherry\n",
      "4.9\n",
      "apple\n",
      "loop completes its iterations\n"
     ]
    }
   ],
   "source": [
    "S={'apple',4.9,'cherry'}\n",
    "for x in S:\n",
    "    print(x)\n",
    "else:\n",
    "    print('loop completes its iterations')"
   ]
  },
  {
   "cell_type": "code",
   "execution_count": 12,
   "id": "4e17354f",
   "metadata": {},
   "outputs": [
    {
     "name": "stdout",
     "output_type": "stream",
     "text": [
      "cherry\n",
      "4.9\n",
      "This is outside of loop.\n"
     ]
    }
   ],
   "source": [
    "S={'apple',4.9,'cherry'}\n",
    "i=1\n",
    "for x in S:\n",
    "    print(x)\n",
    "    i+=1\n",
    "    if i==3:\n",
    "        break\n",
    "    else:\n",
    "        pass\n",
    "else:\n",
    "    print('loop terminates with success')\n",
    "print('This is outside of loop.')"
   ]
  },
  {
   "cell_type": "code",
   "execution_count": 13,
   "id": "e88cbb4e",
   "metadata": {},
   "outputs": [
    {
     "name": "stdout",
     "output_type": "stream",
     "text": [
      "a 10\n",
      "b 3\n",
      "c 24\n"
     ]
    }
   ],
   "source": [
    "D={'a':10,'b':3,'c':24}\n",
    "for d in D:\n",
    "    print(d,D[d])"
   ]
  }
 ],
 "metadata": {
  "kernelspec": {
   "display_name": "Python 3 (ipykernel)",
   "language": "python",
   "name": "python3"
  },
  "language_info": {
   "codemirror_mode": {
    "name": "ipython",
    "version": 3
   },
   "file_extension": ".py",
   "mimetype": "text/x-python",
   "name": "python",
   "nbconvert_exporter": "python",
   "pygments_lexer": "ipython3",
   "version": "3.11.4"
  }
 },
 "nbformat": 4,
 "nbformat_minor": 5
}
