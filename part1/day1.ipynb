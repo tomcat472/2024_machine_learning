{
 "cells": [
  {
   "cell_type": "code",
   "execution_count": 1,
   "id": "673181ba",
   "metadata": {},
   "outputs": [
    {
     "name": "stdout",
     "output_type": "stream",
     "text": [
      "32\n",
      "2\n",
      "32\n",
      "Still inside if condition\n",
      "Outside if condition\n"
     ]
    }
   ],
   "source": [
    "a=int(input())\n",
    "b=int(input())\n",
    "if a>b:\n",
    "    print(a)\n",
    "    print(\"Still inside if condition\")\n",
    "print('Outside if condition')"
   ]
  },
  {
   "cell_type": "code",
   "execution_count": 2,
   "id": "39bd1fc2",
   "metadata": {},
   "outputs": [
    {
     "name": "stdout",
     "output_type": "stream",
     "text": [
      "324\n",
      "232\n",
      "324\n"
     ]
    }
   ],
   "source": [
    "a=int(input())\n",
    "b=int(input())\n",
    "if a<b:\n",
    "    print(b)\n",
    "if a>b:\n",
    "    print(a)"
   ]
  },
  {
   "cell_type": "code",
   "execution_count": 3,
   "id": "7716aad3",
   "metadata": {},
   "outputs": [
    {
     "name": "stdout",
     "output_type": "stream",
     "text": [
      "2\n",
      "2\n",
      "b is less than\n"
     ]
    }
   ],
   "source": [
    "a=int(input())\n",
    "b=int(input())\n",
    "if b>a:\n",
    "    print('b is greater than a')\n",
    "else:\n",
    "    print('b is less than')"
   ]
  },
  {
   "cell_type": "code",
   "execution_count": 4,
   "id": "6d7db0db",
   "metadata": {},
   "outputs": [
    {
     "name": "stdout",
     "output_type": "stream",
     "text": [
      "Enter first number: 32\n",
      "Enter second number: 23\n",
      "a is greater than b\n"
     ]
    }
   ],
   "source": [
    "a=float(input('Enter first number: '))\n",
    "b=float(input('Enter second number: '))\n",
    "if b>a:\n",
    "    print('b is greater than a')\n",
    "elif a==b:\n",
    "    print('a and b are same')\n",
    "else:\n",
    "    print('a is greater than b')"
   ]
  },
  {
   "cell_type": "code",
   "execution_count": 5,
   "id": "957b8089",
   "metadata": {},
   "outputs": [
    {
     "name": "stdout",
     "output_type": "stream",
     "text": [
      "Enter Marks: 32\n",
      "below average\n"
     ]
    }
   ],
   "source": [
    "a=int(input('Enter Marks: '))\n",
    "if a>=85:\n",
    "    print('A')\n",
    "elif a<85 and a>=80:\n",
    "    print('A-')\n",
    "elif a<80 and a>=75:\n",
    "    print('B')\n",
    "elif a<75 and a>=70:\n",
    "    print('B-')\n",
    "else:\n",
    "    print('below average')"
   ]
  },
  {
   "cell_type": "code",
   "execution_count": 7,
   "id": "c5876129",
   "metadata": {},
   "outputs": [
    {
     "name": "stdout",
     "output_type": "stream",
     "text": [
      ">10\n"
     ]
    }
   ],
   "source": [
    "a=20\n",
    "if a>10:\n",
    "    print(\">10\")\n",
    "elif not(a>10):\n",
    "    print(\"Else value\")"
   ]
  },
  {
   "cell_type": "code",
   "execution_count": 10,
   "id": "861f0c8a",
   "metadata": {},
   "outputs": [
    {
     "name": "stdout",
     "output_type": "stream",
     "text": [
      "21\n",
      ">10\n",
      "Inside the top if\n",
      ">20\n",
      "Inside the nested if\n",
      "outside all ifs\n"
     ]
    }
   ],
   "source": [
    "a=int(input())\n",
    "if a>10:\n",
    "    print('>10')\n",
    "    print('Inside the top if')\n",
    "    if a>20:\n",
    "        print('>20')\n",
    "        print('Inside the nested if')\n",
    "    else:\n",
    "        print('<=20')\n",
    "        print('Inside the else part of nested if')\n",
    "print('outside all ifs')"
   ]
  },
  {
   "cell_type": "code",
   "execution_count": 11,
   "id": "49f803f6",
   "metadata": {},
   "outputs": [
    {
     "name": "stdout",
     "output_type": "stream",
     "text": [
      "54\n",
      ">10\n",
      "Inside the top if\n",
      ">20\n",
      "Inside the nested if\n",
      ">30\n",
      "inside the nested if of nested if\n",
      "outside all ifs\n"
     ]
    }
   ],
   "source": [
    "a=int(input())\n",
    "if a>10:\n",
    "    print('>10')\n",
    "    print('Inside the top if')\n",
    "    if a>20:\n",
    "        print('>20')\n",
    "        print('Inside the nested if')\n",
    "        if a>30:\n",
    "            print('>30')\n",
    "            print('inside the nested if of nested if')\n",
    "        else:\n",
    "            print('<=30')\n",
    "            print('inside the else part of nested if of nested if')\n",
    "    else:\n",
    "        print('<=20')\n",
    "        print('Inside the else part of nested if')\n",
    "print('outside all ifs')"
   ]
  },
  {
   "cell_type": "code",
   "execution_count": 12,
   "id": "3b2decbc",
   "metadata": {},
   "outputs": [
    {
     "name": "stdout",
     "output_type": "stream",
     "text": [
      "Entet a real number: 3.2\n",
      "3\n"
     ]
    }
   ],
   "source": [
    "x=float(input('Entet a real number: '))\n",
    "y=round(x)\n",
    "if y>x:\n",
    "    intPortion=y-1\n",
    "else:\n",
    "    intPortion=y\n",
    "print(intPortion)"
   ]
  }
 ],
 "metadata": {
  "kernelspec": {
   "display_name": "Python 3 (ipykernel)",
   "language": "python",
   "name": "python3"
  },
  "language_info": {
   "codemirror_mode": {
    "name": "ipython",
    "version": 3
   },
   "file_extension": ".py",
   "mimetype": "text/x-python",
   "name": "python",
   "nbconvert_exporter": "python",
   "pygments_lexer": "ipython3",
   "version": "3.11.4"
  }
 },
 "nbformat": 4,
 "nbformat_minor": 5
}
