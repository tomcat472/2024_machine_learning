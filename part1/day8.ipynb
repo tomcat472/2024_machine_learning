{
 "cells": [
  {
   "cell_type": "code",
   "execution_count": 1,
   "id": "d593d14e",
   "metadata": {},
   "outputs": [],
   "source": [
    "import numpy as np"
   ]
  },
  {
   "cell_type": "code",
   "execution_count": 2,
   "id": "792dbf37",
   "metadata": {},
   "outputs": [
    {
     "name": "stdout",
     "output_type": "stream",
     "text": [
      "[1 2 3 4 5]\n",
      "[1 6 3 4 9]\n"
     ]
    }
   ],
   "source": [
    "a=np.array([1,2,3,4,5])\n",
    "b=np.array([1,6,3,4,9])\n",
    "print(a)\n",
    "print(b)"
   ]
  },
  {
   "cell_type": "code",
   "execution_count": 3,
   "id": "880a7961",
   "metadata": {},
   "outputs": [
    {
     "name": "stdout",
     "output_type": "stream",
     "text": [
      "[1 2 3 4 5]\n"
     ]
    }
   ],
   "source": [
    "print(a)"
   ]
  },
  {
   "cell_type": "code",
   "execution_count": 4,
   "id": "7f817ee1",
   "metadata": {},
   "outputs": [
    {
     "data": {
      "text/plain": [
       "numpy.ndarray"
      ]
     },
     "execution_count": 4,
     "metadata": {},
     "output_type": "execute_result"
    }
   ],
   "source": [
    "type(a)"
   ]
  },
  {
   "cell_type": "code",
   "execution_count": 5,
   "id": "5cabf744",
   "metadata": {},
   "outputs": [
    {
     "data": {
      "text/plain": [
       "dtype('int32')"
      ]
     },
     "execution_count": 5,
     "metadata": {},
     "output_type": "execute_result"
    }
   ],
   "source": [
    "a.dtype"
   ]
  },
  {
   "cell_type": "code",
   "execution_count": 6,
   "id": "694d9ef3",
   "metadata": {},
   "outputs": [
    {
     "name": "stdout",
     "output_type": "stream",
     "text": [
      "[1 2 3 4 5]\n",
      "<class 'numpy.ndarray'>\n",
      "int32\n"
     ]
    }
   ],
   "source": [
    "A=np.array([1,2,3,4,5],dtype='i')\n",
    "A\n",
    "print(A)\n",
    "print(type(A))\n",
    "print(A.dtype)"
   ]
  },
  {
   "cell_type": "code",
   "execution_count": 7,
   "id": "3bbcc4d4",
   "metadata": {},
   "outputs": [
    {
     "name": "stdout",
     "output_type": "stream",
     "text": [
      "[2. 2. 3. 4.]\n",
      "<class 'numpy.ndarray'>\n",
      "float32\n"
     ]
    }
   ],
   "source": [
    "B=np.array((2,2,3,4),dtype='f')\n",
    "print(B)\n",
    "print(type(B))\n",
    "print(B.dtype)"
   ]
  },
  {
   "cell_type": "code",
   "execution_count": 8,
   "id": "44bb4765",
   "metadata": {},
   "outputs": [
    {
     "name": "stdout",
     "output_type": "stream",
     "text": [
      "2\n",
      "3\n"
     ]
    }
   ],
   "source": [
    "a=np.array([[1,2,3],[4,5,6]])\n",
    "print(a.ndim)\n",
    "print(a[0,2])"
   ]
  },
  {
   "cell_type": "code",
   "execution_count": 9,
   "id": "3eb2308e",
   "metadata": {},
   "outputs": [
    {
     "name": "stdout",
     "output_type": "stream",
     "text": [
      "3\n",
      "int32\n"
     ]
    }
   ],
   "source": [
    "C=np.array([[[1,2,2,3],[4,2,3,23]]])\n",
    "print(C.ndim)\n",
    "print(C.dtype)"
   ]
  },
  {
   "cell_type": "code",
   "execution_count": 10,
   "id": "88e19d01",
   "metadata": {},
   "outputs": [
    {
     "name": "stdout",
     "output_type": "stream",
     "text": [
      "8\n",
      "32\n"
     ]
    }
   ],
   "source": [
    "print(C.size)\n",
    "print(C.nbytes)"
   ]
  },
  {
   "cell_type": "code",
   "execution_count": 11,
   "id": "bc6bfa69",
   "metadata": {},
   "outputs": [
    {
     "name": "stdout",
     "output_type": "stream",
     "text": [
      "[ 0  1  2  3  4  5  6  7  8  9 10 11 12 13 14 15 16 17 18 19 20 21 22 23\n",
      " 24 25 26 27 28 29 30 31 32 33 34 35 36 37 38 39 40 41 42 43 44 45 46 47\n",
      " 48 49 50 51 52 53 54 55 56 57 58 59 60 61 62 63 64 65 66 67 68 69 70 71\n",
      " 72 73 74 75 76 77 78 79 80 81 82 83 84 85 86 87 88 89 90 91 92 93 94 95\n",
      " 96 97 98 99]\n"
     ]
    }
   ],
   "source": [
    "Z=np.arange(100)\n",
    "print(Z)"
   ]
  },
  {
   "cell_type": "code",
   "execution_count": 12,
   "id": "ab1a3006",
   "metadata": {},
   "outputs": [
    {
     "name": "stdout",
     "output_type": "stream",
     "text": [
      "[0, 1, 2, 3, 4, 5, 6, 7, 8, 9, 10, 11, 12, 13, 14, 15, 16, 17, 18, 19, 20, 21, 22, 23, 24, 25, 26, 27, 28, 29, 30, 31, 32, 33, 34, 35, 36, 37, 38, 39, 40, 41, 42, 43, 44, 45, 46, 47, 48, 49, 50, 51, 52, 53, 54, 55, 56, 57, 58, 59, 60, 61, 62, 63, 64, 65, 66, 67, 68, 69, 70, 71, 72, 73, 74, 75, 76, 77, 78, 79, 80, 81, 82, 83, 84, 85, 86, 87, 88, 89, 90, 91, 92, 93, 94, 95, 96, 97, 98, 99]\n"
     ]
    }
   ],
   "source": [
    "print(list(range(100)))"
   ]
  },
  {
   "cell_type": "code",
   "execution_count": 13,
   "id": "d7f7f13a",
   "metadata": {},
   "outputs": [
    {
     "data": {
      "text/plain": [
       "array([94, 66,  9,  8, 14, 89, 42, 54, 73, 75, 77, 87, 70, 15, 43, 31, 59,\n",
       "       51, 13, 11, 19, 52, 78,  6, 16, 90, 96, 93, 79,  2, 95, 17, 22, 55,\n",
       "       61, 85, 32, 30,  0, 92, 63, 26, 18, 34, 58, 83, 57, 68, 74, 80,  4,\n",
       "       69, 10, 64, 67, 38, 37, 27, 12, 45, 25, 36, 33, 28, 24, 20, 62, 44,\n",
       "       23, 84,  1, 53, 49, 40, 97, 41, 81, 82, 21, 60, 48,  5,  7, 29, 86,\n",
       "       47, 65, 56, 88, 50, 46, 72, 76, 98,  3, 99, 39, 91, 35, 71])"
      ]
     },
     "execution_count": 13,
     "metadata": {},
     "output_type": "execute_result"
    }
   ],
   "source": [
    "np.random.permutation(Z)"
   ]
  },
  {
   "cell_type": "code",
   "execution_count": 14,
   "id": "2f641f4b",
   "metadata": {},
   "outputs": [
    {
     "data": {
      "text/plain": [
       "array([7, 8, 2, 0, 9, 6, 5, 4, 3, 1])"
      ]
     },
     "execution_count": 14,
     "metadata": {},
     "output_type": "execute_result"
    }
   ],
   "source": [
    "J=np.random.permutation(np.arange(10))\n",
    "J"
   ]
  },
  {
   "cell_type": "code",
   "execution_count": 15,
   "id": "4c25ccbc",
   "metadata": {},
   "outputs": [
    {
     "data": {
      "text/plain": [
       "30"
      ]
     },
     "execution_count": 15,
     "metadata": {},
     "output_type": "execute_result"
    }
   ],
   "source": [
    "np.random.randint(20,40)"
   ]
  },
  {
   "cell_type": "code",
   "execution_count": 16,
   "id": "0a50add2",
   "metadata": {},
   "outputs": [
    {
     "name": "stdout",
     "output_type": "stream",
     "text": [
      "251\n",
      "<class 'int'>\n"
     ]
    }
   ],
   "source": [
    "v=np.random.randint(20,400)\n",
    "print(v)\n",
    "print(type(v))"
   ]
  },
  {
   "cell_type": "code",
   "execution_count": 17,
   "id": "9802914e",
   "metadata": {},
   "outputs": [
    {
     "data": {
      "text/plain": [
       "array([0.283083  , 0.66460572, 0.79092387, 0.43585702, 0.54993282,\n",
       "       0.33286039, 0.4630542 , 0.35340692, 0.0884109 , 0.16235033,\n",
       "       0.95281707, 0.83167638, 0.47589326, 0.494756  , 0.81603692,\n",
       "       0.73184374, 0.83345166, 0.24852525, 0.94362452, 0.39811162,\n",
       "       0.04860815, 0.45513345, 0.83204885, 0.99513433, 0.87481957,\n",
       "       0.78502311, 0.47784453, 0.91579502, 0.32556   , 0.72702883,\n",
       "       0.36062551, 0.34983375, 0.59751143, 0.59312219, 0.68466307,\n",
       "       0.20714646, 0.18395519, 0.36160521, 0.59472362, 0.00342627,\n",
       "       0.91678785, 0.56289844, 0.36983656, 0.32401656, 0.34075855,\n",
       "       0.17855774, 0.38029724, 0.40231606, 0.92604999, 0.13251473,\n",
       "       0.06183988, 0.45861812, 0.00897617, 0.9542534 , 0.09110382,\n",
       "       0.07989888, 0.13745312, 0.25863215, 0.15133434, 0.42558161,\n",
       "       0.12125596, 0.86564895, 0.75702462, 0.80993666, 0.2613535 ,\n",
       "       0.96152702, 0.34446879, 0.66859683, 0.8612071 , 0.52692272,\n",
       "       0.11783125, 0.0579668 , 0.66959742, 0.08123787, 0.5683078 ,\n",
       "       0.99064305, 0.45129228, 0.0581797 , 0.93549408, 0.30142409,\n",
       "       0.24417259, 0.84729867, 0.34926896, 0.89169249, 0.76127721,\n",
       "       0.44708451, 0.18694929, 0.85227693, 0.43337381, 0.84131431,\n",
       "       0.35204754, 0.30546791, 0.92667633, 0.77734906, 0.07585146,\n",
       "       0.31149184, 0.73580659, 0.19399391, 0.0902307 , 0.72627275])"
      ]
     },
     "execution_count": 17,
     "metadata": {},
     "output_type": "execute_result"
    }
   ],
   "source": [
    "A=np.random.rand(100)\n",
    "A"
   ]
  },
  {
   "cell_type": "code",
   "execution_count": 18,
   "id": "be29fc0e",
   "metadata": {},
   "outputs": [],
   "source": [
    "import matplotlib.pyplot as plt"
   ]
  },
  {
   "cell_type": "code",
   "execution_count": 19,
   "id": "163fdfac",
   "metadata": {},
   "outputs": [
    {
     "data": {
      "image/png": "[encoded data removed]",
      "text/plain": [
       "<Figure size 640x480 with 1 Axes>"
      ]
     },
     "metadata": {},
     "output_type": "display_data"
    }
   ],
   "source": [
    "plt.hist(A);"
   ]
  },
  {
   "cell_type": "code",
   "execution_count": 20,
   "id": "3def94a5",
   "metadata": {},
   "outputs": [
    {
     "data": {
      "image/png": "[encoded data removed]",
      "text/plain": [
       "<Figure size 640x480 with 1 Axes>"
      ]
     },
     "metadata": {},
     "output_type": "display_data"
    }
   ],
   "source": [
    "B=np.random.randn(10000)\n",
    "plt.hist(B,bins=200);"
   ]
  },
  {
   "cell_type": "code",
   "execution_count": 21,
   "id": "da8950d7",
   "metadata": {},
   "outputs": [
    {
     "name": "stdout",
     "output_type": "stream",
     "text": [
      "4\n"
     ]
    }
   ],
   "source": [
    "C=np.random.rand(2,4,5,3)\n",
    "print(C.ndim)"
   ]
  },
  {
   "cell_type": "code",
   "execution_count": 22,
   "id": "a00fc6b1",
   "metadata": {},
   "outputs": [
    {
     "name": "stdout",
     "output_type": "stream",
     "text": [
      "(1, 4, 25)\n"
     ]
    }
   ],
   "source": [
    "D=np.arange(100).reshape(1,4,25)\n",
    "print(D.shape)"
   ]
  },
  {
   "cell_type": "code",
   "execution_count": 23,
   "id": "ad11c942",
   "metadata": {},
   "outputs": [
    {
     "name": "stdout",
     "output_type": "stream",
     "text": [
      "(25, 4, 1, 1)\n"
     ]
    }
   ],
   "source": [
    "F=D.reshape(25,4,1,1)\n",
    "print(F.shape)"
   ]
  },
  {
   "cell_type": "code",
   "execution_count": 24,
   "id": "089f0418",
   "metadata": {},
   "outputs": [
    {
     "data": {
      "text/plain": [
       "array([[0., 0.],\n",
       "       [0., 0.],\n",
       "       [0., 0.],\n",
       "       [0., 0.]])"
      ]
     },
     "execution_count": 24,
     "metadata": {},
     "output_type": "execute_result"
    }
   ],
   "source": [
    "np.zeros((4,2))"
   ]
  },
  {
   "cell_type": "code",
   "execution_count": 25,
   "id": "b649dc89",
   "metadata": {},
   "outputs": [
    {
     "data": {
      "text/plain": [
       "array([[0., 0., 0.],\n",
       "       [0., 0., 0.],\n",
       "       [0., 0., 0.]])"
      ]
     },
     "execution_count": 25,
     "metadata": {},
     "output_type": "execute_result"
    }
   ],
   "source": [
    "np.zeros([3,3])"
   ]
  },
  {
   "cell_type": "code",
   "execution_count": 26,
   "id": "f78a755b",
   "metadata": {},
   "outputs": [
    {
     "data": {
      "text/plain": [
       "array([ 0,  1,  2,  3,  4,  5,  6,  7,  8,  9, 10, 11, 12, 13, 14, 15, 16,\n",
       "       17, 18, 19, 20, 21, 22, 23, 24, 25, 26, 27, 28, 29, 30, 31, 32, 33,\n",
       "       34, 35, 36, 37, 38, 39, 40, 41, 42, 43, 44, 45, 46, 47, 48, 49, 50,\n",
       "       51, 52, 53, 54, 55, 56, 57, 58, 59, 60, 61, 62, 63, 64, 65, 66, 67,\n",
       "       68, 69, 70, 71, 72, 73, 74, 75, 76, 77, 78, 79, 80, 81, 82, 83, 84,\n",
       "       85, 86, 87, 88, 89, 90, 91, 92, 93, 94, 95, 96, 97, 98, 99])"
      ]
     },
     "execution_count": 26,
     "metadata": {},
     "output_type": "execute_result"
    }
   ],
   "source": [
    "A=np.arange(100)\n",
    "A"
   ]
  },
  {
   "cell_type": "code",
   "execution_count": 27,
   "id": "9432e23d",
   "metadata": {},
   "outputs": [
    {
     "name": "stdout",
     "output_type": "stream",
     "text": [
      "[1 2 3 4]\n",
      "[0 1 2 3 4]\n",
      "[ 2  3  4  5  6  7  8  9 10 11 12 13 14 15 16 17 18 19 20 21 22 23 24 25\n",
      " 26 27 28 29 30 31 32 33 34 35 36 37 38 39 40 41 42 43 44 45 46 47 48 49\n",
      " 50 51 52 53 54 55 56 57 58 59 60 61 62 63 64 65 66 67 68 69 70 71 72 73\n",
      " 74 75 76 77 78 79 80 81 82 83 84 85 86 87 88 89 90 91 92 93 94 95 96 97\n",
      " 98 99]\n",
      "[99 98 97 96 95 94 93 92 91 90 89 88 87 86 85 84 83 82 81 80 79 78 77 76\n",
      " 75 74 73 72 71 70 69 68 67 66 65 64 63 62 61 60 59 58 57 56 55 54 53 52\n",
      " 51 50 49 48 47 46 45 44 43 42 41 40 39 38 37 36 35 34 33 32 31 30 29 28\n",
      " 27 26 25 24 23 22 21 20 19 18 17 16 15 14 13 12 11 10  9  8  7  6  5  4\n",
      "  3  2  1  0]\n",
      "[ 0  2  4  6  8 10 12 14 16 18 20 22 24 26 28 30 32 34 36 38 40 42 44 46\n",
      " 48 50 52 54 56 58 60 62 64 66 68 70 72 74 76 78 80 82 84 86 88 90 92 94\n",
      " 96 98]\n"
     ]
    }
   ],
   "source": [
    "print(A[1:5])\n",
    "print(A[:5])\n",
    "print(A[2:])\n",
    "print(A[::-1])\n",
    "print(A[::2])"
   ]
  },
  {
   "cell_type": "code",
   "execution_count": 28,
   "id": "2634b537",
   "metadata": {},
   "outputs": [
    {
     "name": "stdout",
     "output_type": "stream",
     "text": [
      "[100   1   2   3   4   5   6   7   8   9  10  11  12  13  14  15  16  17\n",
      "  18  19  20  21  22  23  24  25  26  27  28  29  30  31  32  33  34  35\n",
      "  36  37  38  39  40  41  42  43  44  45  46  47  48  49  50  51  52  53\n",
      "  54  55  56  57  58  59  60  61  62  63  64  65  66  67  68  69  70  71\n",
      "  72  73  74  75  76  77  78  79  80  81  82  83  84  85  86  87  88  89\n",
      "  90  91  92  93  94  95  96  97  98  99]\n"
     ]
    }
   ],
   "source": [
    "A[0]=100\n",
    "print(A)"
   ]
  },
  {
   "cell_type": "code",
   "execution_count": 29,
   "id": "bb6a2564",
   "metadata": {},
   "outputs": [
    {
     "name": "stdout",
     "output_type": "stream",
     "text": [
      "[40 41 42 43 44 45 46 47 48 49]\n"
     ]
    }
   ],
   "source": [
    "C=A[40:50].copy()\n",
    "print(C)"
   ]
  },
  {
   "cell_type": "code",
   "execution_count": 30,
   "id": "63774e9e",
   "metadata": {},
   "outputs": [
    {
     "name": "stdout",
     "output_type": "stream",
     "text": [
      "[[94]]\n"
     ]
    }
   ],
   "source": [
    "idx=np.argwhere(A==94)\n",
    "print(idx)"
   ]
  },
  {
   "cell_type": "code",
   "execution_count": 31,
   "id": "e1712bc1",
   "metadata": {},
   "outputs": [
    {
     "data": {
      "text/plain": [
       "array([[7.257 , 2.8756, 5.9948, 0.2737],\n",
       "       [7.1994, 0.5731, 0.5275, 4.5446],\n",
       "       [2.1907, 7.3397, 5.7121, 5.5432],\n",
       "       [7.6152, 1.4904, 8.1037, 4.3025],\n",
       "       [9.6264, 3.4505, 1.495 , 5.8075]])"
      ]
     },
     "execution_count": 31,
     "metadata": {},
     "output_type": "execute_result"
    }
   ],
   "source": [
    "N=np.P=np.round(10*np.random.rand(5,4),4)\n",
    "N"
   ]
  },
  {
   "cell_type": "code",
   "execution_count": 32,
   "id": "94154dfe",
   "metadata": {},
   "outputs": [
    {
     "data": {
      "text/plain": [
       "array([[5.9948, 0.2737],\n",
       "       [0.5275, 4.5446],\n",
       "       [5.7121, 5.5432]])"
      ]
     },
     "execution_count": 32,
     "metadata": {},
     "output_type": "execute_result"
    }
   ],
   "source": [
    "N[0:3,2:4]"
   ]
  },
  {
   "cell_type": "code",
   "execution_count": 33,
   "id": "e5011695",
   "metadata": {},
   "outputs": [
    {
     "data": {
      "text/plain": [
       "array([[7.257 , 7.1994, 2.1907, 7.6152, 9.6264],\n",
       "       [2.8756, 0.5731, 7.3397, 1.4904, 3.4505],\n",
       "       [5.9948, 0.5275, 5.7121, 8.1037, 1.495 ],\n",
       "       [0.2737, 4.5446, 5.5432, 4.3025, 5.8075]])"
      ]
     },
     "execution_count": 33,
     "metadata": {},
     "output_type": "execute_result"
    }
   ],
   "source": [
    "N.T"
   ]
  },
  {
   "cell_type": "code",
   "execution_count": 34,
   "id": "2830b020",
   "metadata": {},
   "outputs": [
    {
     "data": {
      "text/plain": [
       "array([[7.257 , 7.1994, 2.1907, 7.6152, 9.6264],\n",
       "       [2.8756, 0.5731, 7.3397, 1.4904, 3.4505],\n",
       "       [5.9948, 0.5275, 5.7121, 8.1037, 1.495 ],\n",
       "       [0.2737, 4.5446, 5.5432, 4.3025, 5.8075]])"
      ]
     },
     "execution_count": 34,
     "metadata": {},
     "output_type": "execute_result"
    }
   ],
   "source": [
    "N.transpose()"
   ]
  },
  {
   "cell_type": "code",
   "execution_count": 35,
   "id": "c2ff57fd",
   "metadata": {},
   "outputs": [
    {
     "data": {
      "text/plain": [
       "array([[7.257 , 7.1994, 2.1907, 7.6152, 9.6264],\n",
       "       [2.8756, 0.5731, 7.3397, 1.4904, 3.4505],\n",
       "       [5.9948, 0.5275, 5.7121, 8.1037, 1.495 ],\n",
       "       [0.2737, 4.5446, 5.5432, 4.3025, 5.8075]])"
      ]
     },
     "execution_count": 35,
     "metadata": {},
     "output_type": "execute_result"
    }
   ],
   "source": [
    "np.transpose(N)"
   ]
  },
  {
   "cell_type": "code",
   "execution_count": 36,
   "id": "987eb0c1",
   "metadata": {},
   "outputs": [],
   "source": [
    "import numpy.linalg as la"
   ]
  },
  {
   "cell_type": "code",
   "execution_count": 37,
   "id": "8497bc9f",
   "metadata": {},
   "outputs": [
    {
     "data": {
      "text/plain": [
       "array([[  0.89191231,   0.99029509,  -1.8235978 ],\n",
       "       [-18.04118146,  16.67629051,   3.52022872],\n",
       "       [ 20.16234713, -18.82277809,  -2.49014111]])"
      ]
     },
     "execution_count": 37,
     "metadata": {},
     "output_type": "execute_result"
    }
   ],
   "source": [
    "la.inv(np.random.rand(3,3))"
   ]
  },
  {
   "cell_type": "code",
   "execution_count": 38,
   "id": "201263e0",
   "metadata": {},
   "outputs": [
    {
     "name": "stdout",
     "output_type": "stream",
     "text": [
      "[[2.1907 0.5731 0.5275 0.2737]\n",
      " [7.1994 1.4904 1.495  4.3025]\n",
      " [7.257  2.8756 5.7121 4.5446]\n",
      " [7.6152 3.4505 5.9948 5.5432]\n",
      " [9.6264 7.3397 8.1037 5.8075]]\n"
     ]
    }
   ],
   "source": [
    "N.sort(axis=0)\n",
    "print(N)"
   ]
  },
  {
   "cell_type": "code",
   "execution_count": 39,
   "id": "76aed13a",
   "metadata": {},
   "outputs": [
    {
     "name": "stdout",
     "output_type": "stream",
     "text": [
      "[3 5 6]\n"
     ]
    }
   ],
   "source": [
    "A=np.arange(100)\n",
    "B=A[[3,5,6]]\n",
    "print(B)"
   ]
  },
  {
   "cell_type": "code",
   "execution_count": 40,
   "id": "977f888e",
   "metadata": {},
   "outputs": [
    {
     "data": {
      "text/plain": [
       "array([ 0,  1,  2,  3,  4,  5,  6,  7,  8,  9, 10, 11, 12, 13, 14, 15, 16,\n",
       "       17, 18, 19, 20, 21, 22, 23, 24, 25, 26, 27, 28, 29, 30, 31, 32, 33,\n",
       "       34, 35, 36, 37, 38, 39])"
      ]
     },
     "execution_count": 40,
     "metadata": {},
     "output_type": "execute_result"
    }
   ],
   "source": [
    "B=A[A<40]\n",
    "B"
   ]
  },
  {
   "cell_type": "code",
   "execution_count": 41,
   "id": "aa672397",
   "metadata": {},
   "outputs": [
    {
     "data": {
      "text/plain": [
       "array([31, 32, 33, 34, 35, 36, 37, 38, 39])"
      ]
     },
     "execution_count": 41,
     "metadata": {},
     "output_type": "execute_result"
    }
   ],
   "source": [
    "C=A[(A<40) & (A>30)]\n",
    "C"
   ]
  },
  {
   "cell_type": "code",
   "execution_count": 42,
   "id": "d2dc752e",
   "metadata": {},
   "outputs": [
    {
     "data": {
      "text/plain": [
       "array([81, 82, 83, 84, 85, 86, 87, 88, 89])"
      ]
     },
     "execution_count": 42,
     "metadata": {},
     "output_type": "execute_result"
    }
   ],
   "source": [
    "C+50"
   ]
  },
  {
   "cell_type": "code",
   "execution_count": 43,
   "id": "0e9bfbcc",
   "metadata": {},
   "outputs": [
    {
     "data": {
      "text/plain": [
       "array([[ 0.,  8.,  6., 10.],\n",
       "       [ 0.,  4.,  0.,  8.]])"
      ]
     },
     "execution_count": 43,
     "metadata": {},
     "output_type": "execute_result"
    }
   ],
   "source": [
    "A=np.round(10*np.random.rand(2,4))\n",
    "A"
   ]
  },
  {
   "cell_type": "code",
   "execution_count": 44,
   "id": "1e761f6e",
   "metadata": {},
   "outputs": [
    {
     "data": {
      "text/plain": [
       "array([[ 4., 12., 10., 14.],\n",
       "       [ 4.,  8.,  4., 12.]])"
      ]
     },
     "execution_count": 44,
     "metadata": {},
     "output_type": "execute_result"
    }
   ],
   "source": [
    "A+4"
   ]
  },
  {
   "cell_type": "code",
   "execution_count": 45,
   "id": "069b43fa",
   "metadata": {},
   "outputs": [
    {
     "name": "stdout",
     "output_type": "stream",
     "text": [
      "[[1. 1. 0. 0.]\n",
      " [1. 1. 0. 0.]]\n"
     ]
    }
   ],
   "source": [
    "A=np.ones((2,2))\n",
    "B=np.zeros((2,2))\n",
    "C=np.hstack((A,B))\n",
    "print(C)"
   ]
  },
  {
   "cell_type": "code",
   "execution_count": 46,
   "id": "32ff9c91",
   "metadata": {},
   "outputs": [
    {
     "data": {
      "text/plain": [
       "array([[1., 1.],\n",
       "       [1., 1.],\n",
       "       [0., 0.],\n",
       "       [0., 0.]])"
      ]
     },
     "execution_count": 46,
     "metadata": {},
     "output_type": "execute_result"
    }
   ],
   "source": [
    "D=np.vstack((A,B))\n",
    "D"
   ]
  },
  {
   "cell_type": "code",
   "execution_count": 47,
   "id": "95b9a103",
   "metadata": {},
   "outputs": [
    {
     "data": {
      "text/plain": [
       "array([[1., 1.],\n",
       "       [1., 1.],\n",
       "       [0., 0.],\n",
       "       [0., 0.]])"
      ]
     },
     "execution_count": 47,
     "metadata": {},
     "output_type": "execute_result"
    }
   ],
   "source": [
    "np.sort(D)"
   ]
  },
  {
   "cell_type": "code",
   "execution_count": 48,
   "id": "28a694c9",
   "metadata": {},
   "outputs": [
    {
     "name": "stdout",
     "output_type": "stream",
     "text": [
      "[3.20e-01 2.00e+00 3.00e+00 1.20e+01 2.30e+01 2.30e+01 2.30e+01 3.40e+01\n",
      " 2.34e+02 3.23e+02]\n"
     ]
    }
   ],
   "source": [
    "F=np.array([23,234,12,2,3,23,34,323,23.,0.32])\n",
    "print(np.sort(F))"
   ]
  },
  {
   "cell_type": "code",
   "execution_count": 49,
   "id": "be8fd158",
   "metadata": {},
   "outputs": [
    {
     "name": "stdout",
     "output_type": "stream",
     "text": [
      "['123o' 'abc' 'how are you' 'u34']\n"
     ]
    }
   ],
   "source": [
    "A=np.array(['abc','how are you','u34','123o'])\n",
    "A.sort()\n",
    "print(A)"
   ]
  },
  {
   "cell_type": "code",
   "execution_count": 50,
   "id": "ca977e6f",
   "metadata": {},
   "outputs": [],
   "source": [
    "def sumfun(G):\n",
    "    s=0\n",
    "    for x in G:\n",
    "        s+=x\n",
    "    return s"
   ]
  },
  {
   "cell_type": "code",
   "execution_count": 51,
   "id": "34536095",
   "metadata": {},
   "outputs": [
    {
     "name": "stdout",
     "output_type": "stream",
     "text": [
      "700 ms ± 5.37 ms per loop (mean ± std. dev. of 7 runs, 1 loop each)\n",
      "12.1 ms ± 87.7 µs per loop (mean ± std. dev. of 7 runs, 100 loops each)\n",
      "12.2 ms ± 74.8 µs per loop (mean ± std. dev. of 7 runs, 100 loops each)\n",
      "899 ms ± 3.79 ms per loop (mean ± std. dev. of 7 runs, 1 loop each)\n"
     ]
    }
   ],
   "source": [
    "b=np.random.rand(10000000)\n",
    "%timeit sum(b)\n",
    "%timeit np.sum(b)\n",
    "%timeit b.sum()\n",
    "%timeit sumfun(b)"
   ]
  }
 ],
 "metadata": {
  "kernelspec": {
   "display_name": "Python 3 (ipykernel)",
   "language": "python",
   "name": "python3"
  },
  "language_info": {
   "codemirror_mode": {
    "name": "ipython",
    "version": 3
   },
   "file_extension": ".py",
   "mimetype": "text/x-python",
   "name": "python",
   "nbconvert_exporter": "python",
   "pygments_lexer": "ipython3",
   "version": "3.11.4"
  }
 },
 "nbformat": 4,
 "nbformat_minor": 5
}
