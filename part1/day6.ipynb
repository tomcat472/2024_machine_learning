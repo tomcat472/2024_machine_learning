{
 "cells": [
  {
   "cell_type": "code",
   "execution_count": 1,
   "id": "e3c9f23c",
   "metadata": {},
   "outputs": [
    {
     "name": "stdout",
     "output_type": "stream",
     "text": [
      "apple and ball\n"
     ]
    }
   ],
   "source": [
    "a='apple'\n",
    "b='ball'\n",
    "print(a+' and '+b)"
   ]
  },
  {
   "cell_type": "code",
   "execution_count": 2,
   "id": "3c4c5d8a",
   "metadata": {},
   "outputs": [
    {
     "data": {
      "text/plain": [
       "(str, str)"
      ]
     },
     "execution_count": 2,
     "metadata": {},
     "output_type": "execute_result"
    }
   ],
   "source": [
    "type(a),type(b)"
   ]
  },
  {
   "cell_type": "code",
   "execution_count": 3,
   "id": "efd8ccbb",
   "metadata": {},
   "outputs": [
    {
     "name": "stdout",
     "output_type": "stream",
     "text": [
      "tom is 27.\n",
      "tom is 27 .\n",
      "tom is 27.\n"
     ]
    }
   ],
   "source": [
    "name='tom'\n",
    "age=27\n",
    "print(f'{name} is {age}.')\n",
    "print(name,'is',age,'.')\n",
    "print(name+' is '+str(age)+'.')"
   ]
  },
  {
   "cell_type": "code",
   "execution_count": 4,
   "id": "46a8b773",
   "metadata": {},
   "outputs": [],
   "source": [
    "multiline_str=\"\"\"I will count like:\n",
    "                One\n",
    "                Two\n",
    "                Three\n",
    "\"\"\""
   ]
  },
  {
   "cell_type": "code",
   "execution_count": 5,
   "id": "068f13c5",
   "metadata": {},
   "outputs": [
    {
     "name": "stdout",
     "output_type": "stream",
     "text": [
      "I will count like:\n",
      "                One\n",
      "                Two\n",
      "                Three\n",
      "\n"
     ]
    }
   ],
   "source": [
    "print(multiline_str)"
   ]
  },
  {
   "cell_type": "code",
   "execution_count": 6,
   "id": "9986ec92",
   "metadata": {},
   "outputs": [
    {
     "data": {
      "text/plain": [
       "'a'"
      ]
     },
     "execution_count": 6,
     "metadata": {},
     "output_type": "execute_result"
    }
   ],
   "source": [
    "A='apple'\n",
    "A[0]"
   ]
  },
  {
   "cell_type": "code",
   "execution_count": 7,
   "id": "3c86e8df",
   "metadata": {},
   "outputs": [
    {
     "data": {
      "text/plain": [
       "'e'"
      ]
     },
     "execution_count": 7,
     "metadata": {},
     "output_type": "execute_result"
    }
   ],
   "source": [
    "A[-1]"
   ]
  },
  {
   "cell_type": "code",
   "execution_count": 8,
   "id": "e22e5658",
   "metadata": {},
   "outputs": [
    {
     "data": {
      "text/plain": [
       "'app'"
      ]
     },
     "execution_count": 8,
     "metadata": {},
     "output_type": "execute_result"
    }
   ],
   "source": [
    "A[:3]"
   ]
  },
  {
   "cell_type": "code",
   "execution_count": 9,
   "id": "057c56fa",
   "metadata": {},
   "outputs": [
    {
     "data": {
      "text/plain": [
       "'app'"
      ]
     },
     "execution_count": 9,
     "metadata": {},
     "output_type": "execute_result"
    }
   ],
   "source": [
    "A[0:3]"
   ]
  },
  {
   "cell_type": "code",
   "execution_count": 10,
   "id": "a625d500",
   "metadata": {},
   "outputs": [
    {
     "data": {
      "text/plain": [
       "'pl'"
      ]
     },
     "execution_count": 10,
     "metadata": {},
     "output_type": "execute_result"
    }
   ],
   "source": [
    "A[-3:-1]"
   ]
  },
  {
   "cell_type": "code",
   "execution_count": 11,
   "id": "634d9787",
   "metadata": {},
   "outputs": [
    {
     "data": {
      "text/plain": [
       "5"
      ]
     },
     "execution_count": 11,
     "metadata": {},
     "output_type": "execute_result"
    }
   ],
   "source": [
    "len(A)"
   ]
  },
  {
   "cell_type": "code",
   "execution_count": 12,
   "id": "f225e0e7",
   "metadata": {},
   "outputs": [
    {
     "data": {
      "text/plain": [
       "str"
      ]
     },
     "execution_count": 12,
     "metadata": {},
     "output_type": "execute_result"
    }
   ],
   "source": [
    "type(A[0])"
   ]
  },
  {
   "cell_type": "code",
   "execution_count": 13,
   "id": "a3375db5",
   "metadata": {},
   "outputs": [
    {
     "data": {
      "text/plain": [
       "'ape'"
      ]
     },
     "execution_count": 13,
     "metadata": {},
     "output_type": "execute_result"
    }
   ],
   "source": [
    "A[::2] #A[start:stop:step]"
   ]
  },
  {
   "cell_type": "code",
   "execution_count": 14,
   "id": "2cf45b10",
   "metadata": {},
   "outputs": [
    {
     "name": "stdout",
     "output_type": "stream",
     "text": [
      "apple\n"
     ]
    }
   ],
   "source": [
    "A='    apple   '\n",
    "print(A.strip())"
   ]
  },
  {
   "cell_type": "code",
   "execution_count": 15,
   "id": "980b38af",
   "metadata": {},
   "outputs": [
    {
     "name": "stdout",
     "output_type": "stream",
     "text": [
      "    apple\n",
      "apple   \n"
     ]
    }
   ],
   "source": [
    "print(A.rstrip())\n",
    "print(A.lstrip())"
   ]
  },
  {
   "cell_type": "code",
   "execution_count": 16,
   "id": "d0626e4f",
   "metadata": {},
   "outputs": [
    {
     "name": "stdout",
     "output_type": "stream",
     "text": [
      "BOAT IS BIG.\n"
     ]
    }
   ],
   "source": [
    "b='boat is big.'\n",
    "print(b.upper())"
   ]
  },
  {
   "cell_type": "code",
   "execution_count": 17,
   "id": "7f0da8d5",
   "metadata": {},
   "outputs": [
    {
     "name": "stdout",
     "output_type": "stream",
     "text": [
      "BOAT IS BIG.\n",
      "boat is big.\n"
     ]
    }
   ],
   "source": [
    "c=b.upper()\n",
    "print(c)\n",
    "print(c.lower())"
   ]
  },
  {
   "cell_type": "code",
   "execution_count": 18,
   "id": "b180b66d",
   "metadata": {},
   "outputs": [
    {
     "name": "stdout",
     "output_type": "stream",
     "text": [
      "boat is big.\n",
      "boat is small.\n"
     ]
    }
   ],
   "source": [
    "print(b)\n",
    "b=b.replace('big','small')\n",
    "print(b)"
   ]
  },
  {
   "cell_type": "code",
   "execution_count": 19,
   "id": "4a4c7c7c",
   "metadata": {},
   "outputs": [
    {
     "name": "stdout",
     "output_type": "stream",
     "text": [
      "['apple', 'orange', 'grape']\n"
     ]
    }
   ],
   "source": [
    "fruits='apple,orange,grape'\n",
    "print(fruits.split(','))"
   ]
  },
  {
   "cell_type": "code",
   "execution_count": 20,
   "id": "af15e709",
   "metadata": {},
   "outputs": [
    {
     "data": {
      "text/plain": [
       "3"
      ]
     },
     "execution_count": 20,
     "metadata": {},
     "output_type": "execute_result"
    }
   ],
   "source": [
    "fruits.count('e')"
   ]
  },
  {
   "cell_type": "code",
   "execution_count": 21,
   "id": "5f5cc868",
   "metadata": {},
   "outputs": [
    {
     "name": "stdout",
     "output_type": "stream",
     "text": [
      "Help on built-in function count:\n",
      "\n",
      "count(...) method of builtins.str instance\n",
      "    S.count(sub[, start[, end]]) -> int\n",
      "    \n",
      "    Return the number of non-overlapping occurrences of substring sub in\n",
      "    string S[start:end].  Optional arguments start and end are\n",
      "    interpreted as in slice notation.\n",
      "\n"
     ]
    }
   ],
   "source": [
    "help(fruits.count)"
   ]
  },
  {
   "cell_type": "code",
   "execution_count": 22,
   "id": "267e62df",
   "metadata": {},
   "outputs": [
    {
     "data": {
      "text/plain": [
       "True"
      ]
     },
     "execution_count": 22,
     "metadata": {},
     "output_type": "execute_result"
    }
   ],
   "source": [
    "'a' in 'apple'"
   ]
  },
  {
   "cell_type": "code",
   "execution_count": 23,
   "id": "c4a2a009",
   "metadata": {},
   "outputs": [
    {
     "data": {
      "text/plain": [
       "False"
      ]
     },
     "execution_count": 23,
     "metadata": {},
     "output_type": "execute_result"
    }
   ],
   "source": [
    "'a' in 'Apple'"
   ]
  },
  {
   "cell_type": "code",
   "execution_count": 24,
   "id": "73f2c498",
   "metadata": {},
   "outputs": [
    {
     "data": {
      "text/plain": [
       "True"
      ]
     },
     "execution_count": 24,
     "metadata": {},
     "output_type": "execute_result"
    }
   ],
   "source": [
    "'a' not in 'Apple'"
   ]
  },
  {
   "cell_type": "code",
   "execution_count": 25,
   "id": "fca71c31",
   "metadata": {},
   "outputs": [
    {
     "data": {
      "text/plain": [
       "True"
      ]
     },
     "execution_count": 25,
     "metadata": {},
     "output_type": "execute_result"
    }
   ],
   "source": [
    "'apple' == 'apple'"
   ]
  },
  {
   "cell_type": "code",
   "execution_count": 26,
   "id": "1bb1f24e",
   "metadata": {},
   "outputs": [
    {
     "name": "stdout",
     "output_type": "stream",
     "text": [
      "I'm a officer.\n"
     ]
    }
   ],
   "source": [
    "print('I\\'m a officer.')"
   ]
  },
  {
   "cell_type": "code",
   "execution_count": 27,
   "id": "3a35ffe6",
   "metadata": {},
   "outputs": [
    {
     "name": "stdout",
     "output_type": "stream",
     "text": [
      "I'm a officer.\n"
     ]
    }
   ],
   "source": [
    "print(\"I'm a officer.\")"
   ]
  },
  {
   "cell_type": "code",
   "execution_count": 28,
   "id": "7b56db06",
   "metadata": {},
   "outputs": [
    {
     "name": "stdout",
     "output_type": "stream",
     "text": [
      "I'm\n",
      "a officer.\n"
     ]
    }
   ],
   "source": [
    "print(\"I'm\\na officer.\")"
   ]
  },
  {
   "cell_type": "code",
   "execution_count": 29,
   "id": "31cf44ce",
   "metadata": {},
   "outputs": [
    {
     "name": "stdout",
     "output_type": "stream",
     "text": [
      "I'm\ta officer.\n"
     ]
    }
   ],
   "source": [
    "print(\"I'm\\ta officer.\")"
   ]
  }
 ],
 "metadata": {
  "kernelspec": {
   "display_name": "Python 3 (ipykernel)",
   "language": "python",
   "name": "python3"
  },
  "language_info": {
   "codemirror_mode": {
    "name": "ipython",
    "version": 3
   },
   "file_extension": ".py",
   "mimetype": "text/x-python",
   "name": "python",
   "nbconvert_exporter": "python",
   "pygments_lexer": "ipython3",
   "version": "3.11.4"
  }
 },
 "nbformat": 4,
 "nbformat_minor": 5
}
