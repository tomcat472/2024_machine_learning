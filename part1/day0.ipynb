{
 "cells": [
  {
   "cell_type": "markdown",
   "id": "c0bb0bdc",
   "metadata": {},
   "source": [
    "# Variables and Data Types"
   ]
  },
  {
   "cell_type": "code",
   "execution_count": 1,
   "id": "455c3603",
   "metadata": {},
   "outputs": [],
   "source": [
    "x=3"
   ]
  },
  {
   "cell_type": "code",
   "execution_count": 2,
   "id": "3dcc7732",
   "metadata": {},
   "outputs": [
    {
     "name": "stdout",
     "output_type": "stream",
     "text": [
      "3\n"
     ]
    }
   ],
   "source": [
    "print(x)"
   ]
  },
  {
   "cell_type": "code",
   "execution_count": 3,
   "id": "a5f2c77f",
   "metadata": {},
   "outputs": [
    {
     "name": "stdout",
     "output_type": "stream",
     "text": [
      "Variable   Type    Data/Info\n",
      "----------------------------\n",
      "x          int     3\n"
     ]
    }
   ],
   "source": [
    "%whos"
   ]
  },
  {
   "cell_type": "code",
   "execution_count": 4,
   "id": "7df5f2e0",
   "metadata": {},
   "outputs": [],
   "source": [
    "x=5.2"
   ]
  },
  {
   "cell_type": "code",
   "execution_count": 5,
   "id": "d86e9041",
   "metadata": {},
   "outputs": [
    {
     "name": "stdout",
     "output_type": "stream",
     "text": [
      "Variable   Type     Data/Info\n",
      "-----------------------------\n",
      "x          float    5.2\n"
     ]
    }
   ],
   "source": [
    "%whos"
   ]
  },
  {
   "cell_type": "code",
   "execution_count": 6,
   "id": "8713c82c",
   "metadata": {},
   "outputs": [],
   "source": [
    "a,b,c,d=12,2.2,323,23"
   ]
  },
  {
   "cell_type": "code",
   "execution_count": 7,
   "id": "96f098e8",
   "metadata": {},
   "outputs": [
    {
     "name": "stdout",
     "output_type": "stream",
     "text": [
      "Variable   Type     Data/Info\n",
      "-----------------------------\n",
      "a          int      12\n",
      "b          float    2.2\n",
      "c          int      323\n",
      "d          int      23\n",
      "x          float    5.2\n"
     ]
    }
   ],
   "source": [
    "%whos"
   ]
  },
  {
   "cell_type": "code",
   "execution_count": 8,
   "id": "36372ad2",
   "metadata": {},
   "outputs": [],
   "source": [
    "c=324+3j"
   ]
  },
  {
   "cell_type": "code",
   "execution_count": 9,
   "id": "1fca6d9e",
   "metadata": {},
   "outputs": [
    {
     "name": "stdout",
     "output_type": "stream",
     "text": [
      "Variable   Type       Data/Info\n",
      "-------------------------------\n",
      "a          int        12\n",
      "b          float      2.2\n",
      "c          complex    (324+3j)\n",
      "d          int        23\n",
      "x          float      5.2\n"
     ]
    }
   ],
   "source": [
    "%whos"
   ]
  },
  {
   "cell_type": "markdown",
   "id": "3f5968fc",
   "metadata": {},
   "source": [
    "# Arithmetic Operators"
   ]
  },
  {
   "cell_type": "code",
   "execution_count": 10,
   "id": "a5865a9d",
   "metadata": {},
   "outputs": [
    {
     "name": "stdout",
     "output_type": "stream",
     "text": [
      "32+23 = 55\n",
      "32-23 = 9\n",
      "32*23 = 736\n",
      "32/23 = 1.391304347826087\n",
      "32//23 = 1\n",
      "32%23 = 9\n",
      "32**23 = 41538374868278621028243970633760768\n"
     ]
    }
   ],
   "source": [
    "a=32\n",
    "b=23\n",
    "print(f'{a}+{b} = {a+b}')\n",
    "print(f'{a}-{b} = {a-b}')\n",
    "print(f'{a}*{b} = {a*b}')\n",
    "print(f'{a}/{b} = {a/b}')\n",
    "print(f'{a}//{b} = {a//b}')\n",
    "print(f'{a}%{b} = {a%b}')\n",
    "print(f'{a}**{b} = {a**b}')"
   ]
  },
  {
   "cell_type": "code",
   "execution_count": 11,
   "id": "368c25b4",
   "metadata": {},
   "outputs": [
    {
     "name": "stdout",
     "output_type": "stream",
     "text": [
      "266.23\n"
     ]
    }
   ],
   "source": [
    "a=32\n",
    "b=234.23\n",
    "print(a+b)"
   ]
  },
  {
   "cell_type": "markdown",
   "id": "74168b79",
   "metadata": {},
   "source": [
    "# Comparison Operators"
   ]
  },
  {
   "cell_type": "code",
   "execution_count": 12,
   "id": "8549809c",
   "metadata": {},
   "outputs": [
    {
     "name": "stdout",
     "output_type": "stream",
     "text": [
      "False\n",
      "True\n",
      "True\n",
      "True\n",
      "False\n",
      "False\n"
     ]
    }
   ],
   "source": [
    "print(a==b)\n",
    "print(a!=b)\n",
    "print(a<b)\n",
    "print(a<=b)\n",
    "print(a>b)\n",
    "print(a>=b)"
   ]
  },
  {
   "cell_type": "markdown",
   "id": "005b7deb",
   "metadata": {},
   "source": [
    "# Logical Operator"
   ]
  },
  {
   "cell_type": "code",
   "execution_count": 13,
   "id": "160bc7ff",
   "metadata": {},
   "outputs": [
    {
     "name": "stdout",
     "output_type": "stream",
     "text": [
      "False\n"
     ]
    }
   ],
   "source": [
    "print(True and False)"
   ]
  },
  {
   "cell_type": "code",
   "execution_count": 14,
   "id": "33d39aaf",
   "metadata": {},
   "outputs": [
    {
     "name": "stdout",
     "output_type": "stream",
     "text": [
      "True\n"
     ]
    }
   ],
   "source": [
    "print(True or False and True)"
   ]
  },
  {
   "cell_type": "code",
   "execution_count": 15,
   "id": "d63cd71c",
   "metadata": {},
   "outputs": [
    {
     "name": "stdout",
     "output_type": "stream",
     "text": [
      "False\n"
     ]
    }
   ],
   "source": [
    "print(not(True or False) and not(True and True))"
   ]
  },
  {
   "cell_type": "markdown",
   "id": "fbf4ae8e",
   "metadata": {},
   "source": [
    "$ Some Useful Function $"
   ]
  },
  {
   "cell_type": "code",
   "execution_count": 16,
   "id": "feb8ceef",
   "metadata": {},
   "outputs": [
    {
     "name": "stdout",
     "output_type": "stream",
     "text": [
      "324.0\n",
      "324.2\n",
      "324.24\n",
      "324.236\n"
     ]
    }
   ],
   "source": [
    "# round function\n",
    "print(round(324.2359,0))\n",
    "print(round(324.2359,1))\n",
    "print(round(324.2359,2))\n",
    "print(round(324.2359,3))"
   ]
  },
  {
   "cell_type": "code",
   "execution_count": 17,
   "id": "233017cf",
   "metadata": {},
   "outputs": [
    {
     "name": "stdout",
     "output_type": "stream",
     "text": [
      "(5, 0)\n",
      "(13, 1)\n"
     ]
    }
   ],
   "source": [
    "# divmod function --> quotient & remainder\n",
    "print(divmod(25,5))\n",
    "print(divmod(40,3))"
   ]
  },
  {
   "cell_type": "code",
   "execution_count": 18,
   "id": "ba00bea6",
   "metadata": {},
   "outputs": [
    {
     "name": "stdout",
     "output_type": "stream",
     "text": [
      "5 3\n"
     ]
    }
   ],
   "source": [
    "a=divmod(23,4)\n",
    "print(a[0],a[1])"
   ]
  },
  {
   "cell_type": "code",
   "execution_count": 19,
   "id": "26fe0bfc",
   "metadata": {},
   "outputs": [
    {
     "name": "stdout",
     "output_type": "stream",
     "text": [
      "True\n",
      "False\n",
      "True\n"
     ]
    }
   ],
   "source": [
    "# isinstance function\n",
    "print(isinstance(1,int))\n",
    "print(isinstance(1.0,int))\n",
    "print(isinstance(1.0,(int,float)))"
   ]
  },
  {
   "cell_type": "code",
   "execution_count": 20,
   "id": "faed275d",
   "metadata": {},
   "outputs": [
    {
     "name": "stdout",
     "output_type": "stream",
     "text": [
      "True\n"
     ]
    }
   ],
   "source": [
    "print(isinstance(2+3j,(int,float,str,complex)))"
   ]
  },
  {
   "cell_type": "code",
   "execution_count": 21,
   "id": "d363ed6f",
   "metadata": {},
   "outputs": [
    {
     "name": "stdout",
     "output_type": "stream",
     "text": [
      "16\n"
     ]
    }
   ],
   "source": [
    "# power functions\n",
    "print(pow(2,4))"
   ]
  },
  {
   "cell_type": "code",
   "execution_count": 22,
   "id": "d6ed6d16",
   "metadata": {},
   "outputs": [
    {
     "name": "stdout",
     "output_type": "stream",
     "text": [
      "3\n"
     ]
    }
   ],
   "source": [
    "print(pow(32,3,5)) # 32 raise to power 3 and remainder by 5\n",
    "# 32**3 % 5"
   ]
  },
  {
   "cell_type": "code",
   "execution_count": 23,
   "id": "410a4d25",
   "metadata": {},
   "outputs": [
    {
     "name": "stdout",
     "output_type": "stream",
     "text": [
      "Enter your name: tomcat\n",
      "tomcat\n",
      "<class 'str'>\n"
     ]
    }
   ],
   "source": [
    "# input function\n",
    "name=input('Enter your name: ')\n",
    "print(name)\n",
    "print(type(name))"
   ]
  },
  {
   "cell_type": "code",
   "execution_count": 24,
   "id": "34a5e667",
   "metadata": {},
   "outputs": [
    {
     "name": "stdout",
     "output_type": "stream",
     "text": [
      "Enter your age: 27\n",
      "27\n",
      "<class 'str'>\n"
     ]
    }
   ],
   "source": [
    "age=input('Enter your age: ')\n",
    "print(age)\n",
    "print(type(age))"
   ]
  },
  {
   "cell_type": "code",
   "execution_count": 25,
   "id": "d44495a2",
   "metadata": {},
   "outputs": [
    {
     "name": "stdout",
     "output_type": "stream",
     "text": [
      "Enter your age: 27\n",
      "27\n",
      "<class 'int'>\n"
     ]
    }
   ],
   "source": [
    "age=int(input('Enter your age: '))\n",
    "print(age)\n",
    "print(type(age))"
   ]
  },
  {
   "cell_type": "markdown",
   "id": "8eb550cd",
   "metadata": {},
   "source": [
    "## useful  shortcuts for read documentation or some tricks "
   ]
  },
  {
   "cell_type": "code",
   "execution_count": 26,
   "id": "b08ac1b9",
   "metadata": {},
   "outputs": [],
   "source": [
    "pow?"
   ]
  },
  {
   "cell_type": "code",
   "execution_count": 27,
   "id": "520d1440",
   "metadata": {},
   "outputs": [],
   "source": [
    "pow??"
   ]
  },
  {
   "cell_type": "code",
   "execution_count": 28,
   "id": "e0ca82fd",
   "metadata": {},
   "outputs": [
    {
     "name": "stdout",
     "output_type": "stream",
     "text": [
      "Help on built-in function pow in module builtins:\n",
      "\n",
      "pow(base, exp, mod=None)\n",
      "    Equivalent to base**exp with 2 arguments or base**exp % mod with 3 arguments\n",
      "    \n",
      "    Some types, such as ints, are able to use a more efficient algorithm when\n",
      "    invoked using the three argument form.\n",
      "\n"
     ]
    }
   ],
   "source": [
    "help(pow)"
   ]
  },
  {
   "cell_type": "code",
   "execution_count": 29,
   "id": "8421ca42",
   "metadata": {},
   "outputs": [
    {
     "data": {
      "text/plain": [
       "<function pow(base, exp, mod=None)>"
      ]
     },
     "execution_count": 29,
     "metadata": {},
     "output_type": "execute_result"
    }
   ],
   "source": [
    "pow #press shift and Tab"
   ]
  }
 ],
 "metadata": {
  "kernelspec": {
   "display_name": "Python 3 (ipykernel)",
   "language": "python",
   "name": "python3"
  },
  "language_info": {
   "codemirror_mode": {
    "name": "ipython",
    "version": 3
   },
   "file_extension": ".py",
   "mimetype": "text/x-python",
   "name": "python",
   "nbconvert_exporter": "python",
   "pygments_lexer": "ipython3",
   "version": "3.11.4"
  }
 },
 "nbformat": 4,
 "nbformat_minor": 5
}
