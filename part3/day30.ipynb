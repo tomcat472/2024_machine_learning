{
 "cells": [
  {
   "cell_type": "code",
   "execution_count": 1,
   "id": "d032ff35",
   "metadata": {},
   "outputs": [],
   "source": [
    "# functions for creating the app and adding elements\n",
    "from dash import Dash,html,dcc\n",
    "# back-end functions for adding interactivity\n",
    "from dash.dependencies import Output, Input\n",
    "# library for adding plotly visuals\n",
    "import plotly.express as px\n",
    "# library for data prep & ETL\n",
    "import pandas as pd"
   ]
  },
  {
   "cell_type": "markdown",
   "id": "8750877f",
   "metadata": {},
   "source": [
    "#### .Dash(__name__) function creates a Dash application"
   ]
  },
  {
   "cell_type": "code",
   "execution_count": 2,
   "id": "84e5c662",
   "metadata": {},
   "outputs": [
    {
     "data": {
      "text/plain": [
       "<dash.dash.Dash at 0x2a72dca6ad0>"
      ]
     },
     "execution_count": 2,
     "metadata": {},
     "output_type": "execute_result"
    }
   ],
   "source": [
    "# import dash\n",
    "# app=dash.Dash(__name__)\n",
    "app=Dash(__name__)\n",
    "app"
   ]
  },
  {
   "cell_type": "markdown",
   "id": "f24d721d",
   "metadata": {},
   "source": [
    "#### HTML Layouts"
   ]
  },
  {
   "cell_type": "code",
   "execution_count": 3,
   "id": "1d664bde",
   "metadata": {},
   "outputs": [
    {
     "data": {
      "text/html": [
       "\n",
       "        <iframe\n",
       "            width=\"100%\"\n",
       "            height=\"650\"\n",
       "            src=\"http://127.0.0.1:8050/\"\n",
       "            frameborder=\"0\"\n",
       "            allowfullscreen\n",
       "            \n",
       "        ></iframe>\n",
       "        "
      ],
      "text/plain": [
       "<IPython.lib.display.IFrame at 0x2a72ab05850>"
      ]
     },
     "metadata": {},
     "output_type": "display_data"
    }
   ],
   "source": [
    "# Dash uses HTML layouts for desigining the front-end of the application\n",
    "# Use the html module to specify the visual components and assign to app.layout\n",
    "\n",
    "app=Dash(__name__)\n",
    "app.layout=html.Div(\"Hello World\")\n",
    "if __name__==\"__main__\":\n",
    "    app.run_server()"
   ]
  },
  {
   "cell_type": "markdown",
   "id": "f6d352f3",
   "metadata": {},
   "source": [
    "#### Interactive elements"
   ]
  },
  {
   "cell_type": "code",
   "execution_count": 4,
   "id": "081a8d96",
   "metadata": {},
   "outputs": [],
   "source": [
    "# Dash has many interactive elements that can be added to apps for user input\n",
    "# These are provided by the Dash Core Componets Module (dcc)"
   ]
  },
  {
   "cell_type": "code",
   "execution_count": 5,
   "id": "ac7a6b61",
   "metadata": {
    "scrolled": true
   },
   "outputs": [
    {
     "data": {
      "text/html": [
       "\n",
       "        <iframe\n",
       "            width=\"100%\"\n",
       "            height=\"650\"\n",
       "            src=\"http://127.0.0.1:8050/\"\n",
       "            frameborder=\"0\"\n",
       "            allowfullscreen\n",
       "            \n",
       "        ></iframe>\n",
       "        "
      ],
      "text/plain": [
       "<IPython.lib.display.IFrame at 0x2a72a2ac4d0>"
      ]
     },
     "metadata": {},
     "output_type": "display_data"
    }
   ],
   "source": [
    "app=Dash(__name__)\n",
    "app.layout=html.Div([\n",
    "    \"Pick a Color!\",\n",
    "    dcc.Dropdown(\n",
    "        options=['Red','Green','Blue'],\n",
    "        id='color-input',\n",
    "        value='red'\n",
    "    ),\n",
    "])\n",
    "\n",
    "if __name__==\"__main__\":\n",
    "    app.run_server()"
   ]
  },
  {
   "cell_type": "code",
   "execution_count": 6,
   "id": "f2b497b7",
   "metadata": {},
   "outputs": [],
   "source": [
    "# dcc.Dropdown() component has three propertites:\n",
    "#     1) option: contains the contents of dropdown\n",
    "#     2) id: the identifier for the value passed through\n",
    "#     3) value: the option selected"
   ]
  },
  {
   "cell_type": "code",
   "execution_count": 7,
   "id": "70880d53",
   "metadata": {},
   "outputs": [
    {
     "data": {
      "text/html": [
       "\n",
       "        <iframe\n",
       "            width=\"100%\"\n",
       "            height=\"650\"\n",
       "            src=\"http://127.0.0.1:8050/\"\n",
       "            frameborder=\"0\"\n",
       "            allowfullscreen\n",
       "            \n",
       "        ></iframe>\n",
       "        "
      ],
      "text/plain": [
       "<IPython.lib.display.IFrame at 0x2a72e042710>"
      ]
     },
     "metadata": {},
     "output_type": "display_data"
    }
   ],
   "source": [
    "app=Dash(__name__)\n",
    "app.layout=html.Div([\n",
    "    \"Pick a Town\",\n",
    "    dcc.Dropdown(\n",
    "        options=[\"Katha\",\"Kawlin\",\"Bamauk\",\"Inndaw\",\"Shwebo\"],\n",
    "        value=\"Katha\",\n",
    "        id=\"town_dropdown\"\n",
    "    )\n",
    "])\n",
    "\n",
    "if __name__==\"__main__\":\n",
    "    app.run_server()"
   ]
  },
  {
   "cell_type": "markdown",
   "id": "d3c9efcd",
   "metadata": {},
   "source": [
    "#### Callback function process user inputs and update the app accordingly"
   ]
  },
  {
   "cell_type": "code",
   "execution_count": 8,
   "id": "5c5cf3c4",
   "metadata": {},
   "outputs": [],
   "source": [
    "# They are triggered by a change to a property of an HTML component(input)\n",
    "# They then change the property of another HTML component (output)"
   ]
  },
  {
   "cell_type": "code",
   "execution_count": 9,
   "id": "ee04fdbb",
   "metadata": {},
   "outputs": [],
   "source": [
    "# Call back function is defined by using the @app.callback decorator and have at least two arguments\n",
    "# (Output & Input), followed by the function itself\n",
    "# @app.callback(\n",
    "#     Output(component_id,componment_property),\n",
    "#     Input(component_id,componment_property)\n",
    "# )\n",
    "# def function_name(variable):\n",
    "# #     function steps\n",
    "#     return f'Output: {variable}'"
   ]
  },
  {
   "cell_type": "code",
   "execution_count": 10,
   "id": "854da547",
   "metadata": {},
   "outputs": [
    {
     "data": {
      "text/html": [
       "\n",
       "        <iframe\n",
       "            width=\"100%\"\n",
       "            height=\"650\"\n",
       "            src=\"http://127.0.0.1:8050/\"\n",
       "            frameborder=\"0\"\n",
       "            allowfullscreen\n",
       "            \n",
       "        ></iframe>\n",
       "        "
      ],
      "text/plain": [
       "<IPython.lib.display.IFrame at 0x2a72a2a9cd0>"
      ]
     },
     "metadata": {},
     "output_type": "display_data"
    }
   ],
   "source": [
    "app=Dash(__name__)\n",
    "app.layout=html.Div([\n",
    "    \"Pick a Color!\",\n",
    "    dcc.Dropdown(\n",
    "        options=['Red','Green','Blue'],\n",
    "        id='color-input',\n",
    "        value='red'\n",
    "    ),\n",
    "    html.Div(id='color-output')\n",
    "])\n",
    "\n",
    "@app.callback(\n",
    "    Output(\"color-output\",\"children\"),Input(\"color-input\",\"value\")\n",
    ")\n",
    "def update_output_div(color):\n",
    "    return f\"Color selected {color}.\"\n",
    "\n",
    "if __name__==\"__main__\":\n",
    "    app.run_server()"
   ]
  },
  {
   "cell_type": "code",
   "execution_count": 11,
   "id": "d032faf5",
   "metadata": {},
   "outputs": [
    {
     "data": {
      "text/html": [
       "\n",
       "        <iframe\n",
       "            width=\"100%\"\n",
       "            height=\"650\"\n",
       "            src=\"http://127.0.0.1:8050/\"\n",
       "            frameborder=\"0\"\n",
       "            allowfullscreen\n",
       "            \n",
       "        ></iframe>\n",
       "        "
      ],
      "text/plain": [
       "<IPython.lib.display.IFrame at 0x2a72e064610>"
      ]
     },
     "metadata": {},
     "output_type": "display_data"
    }
   ],
   "source": [
    "app=Dash(__name__)\n",
    "app.layout=html.Div([\n",
    "    \"Pick a Town\",\n",
    "    dcc.Dropdown(\n",
    "        options=[\"Katha\",\"Kawlin\",\"Bamauk\",\"Inndaw\",\"Shwebo\"],\n",
    "        value=\"Katha\",\n",
    "        id=\"town_dropdown\"\n",
    "    ),\n",
    "    html.H3(id=\"town-output\")\n",
    "])\n",
    "@app.callback(\n",
    "    Output(\"town-output\",\"children\"),Input(\"town_dropdown\",\"value\")\n",
    ")\n",
    "def town_picker(name):\n",
    "    return f\"I live in {name}\"\n",
    "\n",
    "if __name__==\"__main__\":\n",
    "    app.run_server()"
   ]
  }
 ],
 "metadata": {
  "kernelspec": {
   "display_name": "Python 3 (ipykernel)",
   "language": "python",
   "name": "python3"
  },
  "language_info": {
   "codemirror_mode": {
    "name": "ipython",
    "version": 3
   },
   "file_extension": ".py",
   "mimetype": "text/x-python",
   "name": "python",
   "nbconvert_exporter": "python",
   "pygments_lexer": "ipython3",
   "version": "3.11.4"
  }
 },
 "nbformat": 4,
 "nbformat_minor": 5
}
