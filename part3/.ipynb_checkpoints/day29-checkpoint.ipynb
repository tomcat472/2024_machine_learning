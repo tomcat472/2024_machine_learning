{
 "cells": [
  {
   "cell_type": "code",
   "execution_count": 1,
   "id": "55942d20",
   "metadata": {},
   "outputs": [],
   "source": [
    "# import sys"
   ]
  },
  {
   "cell_type": "code",
   "execution_count": 2,
   "id": "f5b74d59",
   "metadata": {},
   "outputs": [],
   "source": [
    "# !conda install --yes --prefix {sys.prefix} plotly"
   ]
  },
  {
   "cell_type": "code",
   "execution_count": 3,
   "id": "74f2406e",
   "metadata": {},
   "outputs": [],
   "source": [
    "# !conda install --yes --prefix {sys.prefix} dash"
   ]
  },
  {
   "cell_type": "code",
   "execution_count": 4,
   "id": "6df2b561",
   "metadata": {},
   "outputs": [],
   "source": [
    "# !conda install --yes --prefix {sys.prefix} jupyter_dash\n",
    "# !pip install jupyter_dash"
   ]
  },
  {
   "cell_type": "code",
   "execution_count": 5,
   "id": "ee86ac61",
   "metadata": {},
   "outputs": [],
   "source": [
    "# creating dash application\n",
    "# 1) import the necessary libraries\n",
    "# 2) create the dash application\n",
    "# 3) set up the html layout\n",
    "# 4) add the callback functions\n",
    "# 5) run the application"
   ]
  },
  {
   "cell_type": "markdown",
   "id": "d9a17af0",
   "metadata": {},
   "source": [
    "#### simplest dash app"
   ]
  },
  {
   "cell_type": "code",
   "execution_count": 6,
   "id": "ea45c672",
   "metadata": {},
   "outputs": [
    {
     "data": {
      "text/html": [
       "\n",
       "        <iframe\n",
       "            width=\"100%\"\n",
       "            height=\"650\"\n",
       "            src=\"http://127.0.0.1:8050/\"\n",
       "            frameborder=\"0\"\n",
       "            allowfullscreen\n",
       "            \n",
       "        ></iframe>\n",
       "        "
      ],
      "text/plain": [
       "<IPython.lib.display.IFrame at 0x22f73055610>"
      ]
     },
     "metadata": {},
     "output_type": "display_data"
    }
   ],
   "source": [
    "from dash import Dash, html\n",
    "app= Dash(__name__)\n",
    "app.layout=html.Div('Hello World!')\n",
    "\n",
    "if __name__==\"__main__\":\n",
    "    app.run_server()"
   ]
  },
  {
   "cell_type": "code",
   "execution_count": 7,
   "id": "a06b32a6",
   "metadata": {},
   "outputs": [],
   "source": [
    "# from dash import html\n",
    "# from jupyter_dash import JupyterDash\n",
    "\n",
    "# app=JupyterDash(__name__)\n",
    "# app.layout=html.Div(\"Hello World!\")\n",
    "\n",
    "# if __name__==\"main\":\n",
    "#     app.runserver(mode=\"inline\")"
   ]
  },
  {
   "cell_type": "code",
   "execution_count": 8,
   "id": "bfcd1b30",
   "metadata": {},
   "outputs": [
    {
     "data": {
      "text/html": [
       "\n",
       "        <iframe\n",
       "            width=\"100%\"\n",
       "            height=\"650\"\n",
       "            src=\"http://127.0.0.1:8050/\"\n",
       "            frameborder=\"0\"\n",
       "            allowfullscreen\n",
       "            \n",
       "        ></iframe>\n",
       "        "
      ],
      "text/plain": [
       "<IPython.lib.display.IFrame at 0x22f72f1b0d0>"
      ]
     },
     "metadata": {},
     "output_type": "display_data"
    }
   ],
   "source": [
    "from dash import Dash, html\n",
    "app= Dash(__name__)\n",
    "app.layout=html.Div('Hello World!')\n",
    "\n",
    "if __name__==\"__main__\":\n",
    "    app.run_server()"
   ]
  },
  {
   "cell_type": "code",
   "execution_count": 9,
   "id": "e852ab82",
   "metadata": {},
   "outputs": [
    {
     "data": {
      "text/html": [
       "\n",
       "        <iframe\n",
       "            width=\"100%\"\n",
       "            height=\"650\"\n",
       "            src=\"http://127.0.0.1:8050/\"\n",
       "            frameborder=\"0\"\n",
       "            allowfullscreen\n",
       "            \n",
       "        ></iframe>\n",
       "        "
      ],
      "text/plain": [
       "<IPython.lib.display.IFrame at 0x22f72e21e50>"
      ]
     },
     "metadata": {},
     "output_type": "display_data"
    }
   ],
   "source": [
    "from dash import Dash,html\n",
    "app=Dash(__name__)\n",
    "app.layout=html.Div(\"Hello My Friend\")\n",
    "\n",
    "if __name__==\"__main__\":\n",
    "    app.run_server()"
   ]
  },
  {
   "cell_type": "code",
   "execution_count": 10,
   "id": "b2a68822",
   "metadata": {},
   "outputs": [],
   "source": [
    "# pip install jupyterthemes\n",
    "import jupyterthemes as jt"
   ]
  },
  {
   "cell_type": "code",
   "execution_count": 11,
   "id": "1fe36bf5",
   "metadata": {},
   "outputs": [
    {
     "data": {
      "text/plain": [
       "['chesterish',\n",
       " 'grade3',\n",
       " 'gruvboxd',\n",
       " 'gruvboxl',\n",
       " 'monokai',\n",
       " 'oceans16',\n",
       " 'onedork',\n",
       " 'solarizedd',\n",
       " 'solarizedl']"
      ]
     },
     "execution_count": 11,
     "metadata": {},
     "output_type": "execute_result"
    }
   ],
   "source": [
    "jt.get_themes()"
   ]
  },
  {
   "cell_type": "code",
   "execution_count": 15,
   "id": "9c61631e",
   "metadata": {},
   "outputs": [],
   "source": [
    "# jt.install_theme('chesterish')"
   ]
  }
 ],
 "metadata": {
  "kernelspec": {
   "display_name": "Python 3 (ipykernel)",
   "language": "python",
   "name": "python3"
  },
  "language_info": {
   "codemirror_mode": {
    "name": "ipython",
    "version": 3
   },
   "file_extension": ".py",
   "mimetype": "text/x-python",
   "name": "python",
   "nbconvert_exporter": "python",
   "pygments_lexer": "ipython3",
   "version": "3.11.4"
  }
 },
 "nbformat": 4,
 "nbformat_minor": 5
}
