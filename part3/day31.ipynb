{
 "cells": [
  {
   "cell_type": "markdown",
   "id": "feb7e498",
   "metadata": {},
   "source": [
    "#### Preventing Updates"
   ]
  },
  {
   "cell_type": "code",
   "execution_count": 1,
   "id": "66bce0aa",
   "metadata": {},
   "outputs": [],
   "source": [
    "# callback functions run as soon as the app launched by default, \n",
    "# but you can add logic to prevent update\n",
    "# This can help avoid errors when interactive elements are in an \"empty state\""
   ]
  },
  {
   "cell_type": "code",
   "execution_count": 2,
   "id": "8f187b25",
   "metadata": {},
   "outputs": [],
   "source": [
    "# There are serval APPLICATION Run options\n",
    "# debug=True, helps with troubleshooting during development(i.e., better error message)\n",
    "# host/port: specify the server address of the app- the default is https://127.0.0.1.8050/\n",
    "# mode=\"inline\" runs the app in-notebook when using Jupyter Dash(not an option in Dash)\n",
    "# height/width set the height or width of the app in pixels or a percentage"
   ]
  },
  {
   "cell_type": "code",
   "execution_count": 7,
   "id": "74e316f0",
   "metadata": {},
   "outputs": [
    {
     "data": {
      "text/html": [
       "\n",
       "        <iframe\n",
       "            width=\"100%\"\n",
       "            height=\"650\"\n",
       "            src=\"http://127.0.0.1:8050/\"\n",
       "            frameborder=\"0\"\n",
       "            allowfullscreen\n",
       "            \n",
       "        ></iframe>\n",
       "        "
      ],
      "text/plain": [
       "<IPython.lib.display.IFrame at 0x2315aea4e90>"
      ]
     },
     "metadata": {},
     "output_type": "display_data"
    }
   ],
   "source": [
    "from dash import Dash, dcc, html\n",
    "from dash.dependencies import Output,Input\n",
    "from dash.exceptions import PreventUpdate\n",
    "\n",
    "app=Dash(__name__)\n",
    "app.layout=html.Div(\n",
    "    [\n",
    "        \"Select a town to analyze: \",\n",
    "        dcc.Dropdown(\n",
    "        id=\"Town Dropdown\",\n",
    "        options=[\"Katha\",\"Indaw\",\"Banmauk\",\"Kawlin\"]\n",
    "    ),\n",
    "        html.H3(id=\"text-output\")\n",
    "    ]\n",
    ")\n",
    "@app.callback(\n",
    "    Output(\"text-output\",\"children\"),\n",
    "    Input(\"Town Dropdown\",\"value\")\n",
    ")\n",
    "def update_output_div(town):\n",
    "    if not town:\n",
    "        raise PreventUpdate\n",
    "    return f\"Your town is {town}\"\n",
    "\n",
    "if __name__==\"__main__\":\n",
    "    app.run_server(debug=True)"
   ]
  },
  {
   "cell_type": "code",
   "execution_count": null,
   "id": "0aaf8e4f",
   "metadata": {},
   "outputs": [],
   "source": []
  }
 ],
 "metadata": {
  "kernelspec": {
   "display_name": "Python 3 (ipykernel)",
   "language": "python",
   "name": "python3"
  },
  "language_info": {
   "codemirror_mode": {
    "name": "ipython",
    "version": 3
   },
   "file_extension": ".py",
   "mimetype": "text/x-python",
   "name": "python",
   "nbconvert_exporter": "python",
   "pygments_lexer": "ipython3",
   "version": "3.11.4"
  }
 },
 "nbformat": 4,
 "nbformat_minor": 5
}
